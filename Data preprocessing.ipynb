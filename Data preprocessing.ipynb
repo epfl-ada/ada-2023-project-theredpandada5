{
 "cells": [
  {
   "cell_type": "markdown",
   "id": "d94b3512",
   "metadata": {},
   "source": [
    "# Data preprocessing notebook"
   ]
  },
  {
   "cell_type": "code",
   "execution_count": 1,
   "id": "1ed87e8c",
   "metadata": {},
   "outputs": [],
   "source": [
    "%matplotlib inline\n",
    "import pandas as pd\n",
    "import matplotlib.pyplot as plt\n",
    "import seaborn as sns\n",
    "import json\n",
    "import scipy.stats as stats\n",
    "import requests \n",
    "\n",
    "from preprocessing_helper import get_values_occurrences"
   ]
  },
  {
   "cell_type": "markdown",
   "id": "0b392bf5",
   "metadata": {},
   "source": [
    "## Table of Contents\n",
    "\n",
    "* [Importing the data](#importation)\n",
    "    * [First visualization](#visualization)\n",
    "* [Preprocessing the movies dataframe](#movie_preprocessing)\n",
    "    * [Movie release date](#movie_release)\n",
    "    * [Movie box office revenue](#box_office)\n",
    "    * [Movie runtime](#runtime)\n",
    "    * [Movie languages](#language)\n",
    "    * [Movie countries](#countries)\n",
    "    * [Movie genres](#movie_genre)    \n",
    "* [Preprocessing the characters dataframe](#char_preprocessing)\n",
    "    * [Movie release date](#rel_date)\n",
    "    * [Actor date of birth](#birth)\n",
    "    * [Actor gender](#char_gender)\n",
    "    * [Actor height](#height)\n",
    "    * [Actor age at movie release](#age_release)\n",
    "    * [Actor persona](#persona)\n",
    "* [Preprocessing the summaries dataframe](#summary)\n",
    "* [IMDB ratings preprocessing](#IMDB)\n",
    "    * [Loading the ratings](#load_rate)\n",
    "    * [Preprocessing the ratings](#Preprocessing_rate)\n",
    "    * [Average rating](#average_rate)\n",
    "    * [Number of votes](#vote)\n",
    "* [Removing unnecessary columns](#remove_col)\n",
    "* [Dropping Duplicates](#drop_dup)\n",
    "* [Saving](#Saving)"
   ]
  },
  {
   "cell_type": "markdown",
   "id": "1b709570",
   "metadata": {},
   "source": [
    "### Importing the data <a class=\"anchor\" id=\"importation\"></a>\n"
   ]
  },
  {
   "cell_type": "code",
   "execution_count": 2,
   "id": "9d96fbf7",
   "metadata": {},
   "outputs": [],
   "source": [
    "path = './Data/MovieSummaries/'\n",
    "path_lda = './Data/LDA/'\n",
    "\n",
    "# SOPHIIIIIIIIIE \n",
    "path_lda_romance = './Data/LDA/GENRES/'\n",
    "\n",
    "movies = pd.read_csv(path+'movie.metadata.tsv', delimiter='\\t',\n",
    "                             names = ['Wikipedia movie ID', 'Freebase movie ID', 'Movie name',\n",
    "                                      'Movie release date', 'Movie box office revenue', 'Movie runtime',\n",
    "                                      'Movie languages', 'Movie countries', 'Movie genres'])\n",
    "\n",
    "\n",
    "characters = pd.read_table(path+'character.metadata.tsv',\n",
    "                                  names = ['Wikipedia movie ID', 'Freebase movie ID', 'Movie release date',\n",
    "                                           'Character name', 'Actor date of birth', 'Actor gender',\n",
    "                                           'Actor height (in meters)', 'Actor ethnicity (Freebase ID)',\n",
    "                                           'Actor name','Actor age at movie release',\n",
    "                                           'Freebase character/actor map ID', 'Freebase character ID',\n",
    "                                           'Freebase actor ID'])\n",
    "\n",
    "summaries = pd.read_csv(path+'plot_summaries.txt', sep=\"\\t\", names=['Wikipedia movie ID', 'Summary'])\n",
    "\n",
    "\n",
    "movies['Movie languages'] = movies['Movie languages'].apply(lambda language : json.loads(language))\n",
    "movies['Movie genres'] = movies['Movie genres'].apply(lambda genre : json.loads(genre))\n",
    "movies['Movie countries'] = movies['Movie countries'].apply(lambda countries : json.loads(countries))"
   ]
  },
  {
   "cell_type": "markdown",
   "id": "3938abbf",
   "metadata": {},
   "source": [
    "#### First visualization <a class=\"anchor\" id=\"visualization\"></a>"
   ]
  },
  {
   "cell_type": "markdown",
   "id": "cf12e874",
   "metadata": {},
   "source": [
    "Let's have a first look at what the data looks like:"
   ]
  },
  {
   "cell_type": "code",
   "execution_count": 3,
   "id": "bff83fc6",
   "metadata": {},
   "outputs": [
    {
     "data": {
      "text/html": [
       "<div>\n",
       "<style scoped>\n",
       "    .dataframe tbody tr th:only-of-type {\n",
       "        vertical-align: middle;\n",
       "    }\n",
       "\n",
       "    .dataframe tbody tr th {\n",
       "        vertical-align: top;\n",
       "    }\n",
       "\n",
       "    .dataframe thead th {\n",
       "        text-align: right;\n",
       "    }\n",
       "</style>\n",
       "<table border=\"1\" class=\"dataframe\">\n",
       "  <thead>\n",
       "    <tr style=\"text-align: right;\">\n",
       "      <th></th>\n",
       "      <th>Wikipedia movie ID</th>\n",
       "      <th>Freebase movie ID</th>\n",
       "      <th>Movie name</th>\n",
       "      <th>Movie release date</th>\n",
       "      <th>Movie box office revenue</th>\n",
       "      <th>Movie runtime</th>\n",
       "      <th>Movie languages</th>\n",
       "      <th>Movie countries</th>\n",
       "      <th>Movie genres</th>\n",
       "    </tr>\n",
       "  </thead>\n",
       "  <tbody>\n",
       "    <tr>\n",
       "      <th>0</th>\n",
       "      <td>975900</td>\n",
       "      <td>/m/03vyhn</td>\n",
       "      <td>Ghosts of Mars</td>\n",
       "      <td>2001-08-24</td>\n",
       "      <td>14010832.0</td>\n",
       "      <td>98.0</td>\n",
       "      <td>{'/m/02h40lc': 'English Language'}</td>\n",
       "      <td>{'/m/09c7w0': 'United States of America'}</td>\n",
       "      <td>{'/m/01jfsb': 'Thriller', '/m/06n90': 'Science...</td>\n",
       "    </tr>\n",
       "    <tr>\n",
       "      <th>1</th>\n",
       "      <td>3196793</td>\n",
       "      <td>/m/08yl5d</td>\n",
       "      <td>Getting Away with Murder: The JonBenét Ramsey ...</td>\n",
       "      <td>2000-02-16</td>\n",
       "      <td>NaN</td>\n",
       "      <td>95.0</td>\n",
       "      <td>{'/m/02h40lc': 'English Language'}</td>\n",
       "      <td>{'/m/09c7w0': 'United States of America'}</td>\n",
       "      <td>{'/m/02n4kr': 'Mystery', '/m/03bxz7': 'Biograp...</td>\n",
       "    </tr>\n",
       "  </tbody>\n",
       "</table>\n",
       "</div>"
      ],
      "text/plain": [
       "   Wikipedia movie ID Freebase movie ID  \\\n",
       "0              975900         /m/03vyhn   \n",
       "1             3196793         /m/08yl5d   \n",
       "\n",
       "                                          Movie name Movie release date  \\\n",
       "0                                     Ghosts of Mars         2001-08-24   \n",
       "1  Getting Away with Murder: The JonBenét Ramsey ...         2000-02-16   \n",
       "\n",
       "   Movie box office revenue  Movie runtime  \\\n",
       "0                14010832.0           98.0   \n",
       "1                       NaN           95.0   \n",
       "\n",
       "                      Movie languages  \\\n",
       "0  {'/m/02h40lc': 'English Language'}   \n",
       "1  {'/m/02h40lc': 'English Language'}   \n",
       "\n",
       "                             Movie countries  \\\n",
       "0  {'/m/09c7w0': 'United States of America'}   \n",
       "1  {'/m/09c7w0': 'United States of America'}   \n",
       "\n",
       "                                        Movie genres  \n",
       "0  {'/m/01jfsb': 'Thriller', '/m/06n90': 'Science...  \n",
       "1  {'/m/02n4kr': 'Mystery', '/m/03bxz7': 'Biograp...  "
      ]
     },
     "execution_count": 3,
     "metadata": {},
     "output_type": "execute_result"
    }
   ],
   "source": [
    "movies.head(2)"
   ]
  },
  {
   "cell_type": "code",
   "execution_count": 4,
   "id": "e61573a9",
   "metadata": {},
   "outputs": [
    {
     "data": {
      "text/html": [
       "<div>\n",
       "<style scoped>\n",
       "    .dataframe tbody tr th:only-of-type {\n",
       "        vertical-align: middle;\n",
       "    }\n",
       "\n",
       "    .dataframe tbody tr th {\n",
       "        vertical-align: top;\n",
       "    }\n",
       "\n",
       "    .dataframe thead th {\n",
       "        text-align: right;\n",
       "    }\n",
       "</style>\n",
       "<table border=\"1\" class=\"dataframe\">\n",
       "  <thead>\n",
       "    <tr style=\"text-align: right;\">\n",
       "      <th></th>\n",
       "      <th>Wikipedia movie ID</th>\n",
       "      <th>Freebase movie ID</th>\n",
       "      <th>Movie release date</th>\n",
       "      <th>Character name</th>\n",
       "      <th>Actor date of birth</th>\n",
       "      <th>Actor gender</th>\n",
       "      <th>Actor height (in meters)</th>\n",
       "      <th>Actor ethnicity (Freebase ID)</th>\n",
       "      <th>Actor name</th>\n",
       "      <th>Actor age at movie release</th>\n",
       "      <th>Freebase character/actor map ID</th>\n",
       "      <th>Freebase character ID</th>\n",
       "      <th>Freebase actor ID</th>\n",
       "    </tr>\n",
       "  </thead>\n",
       "  <tbody>\n",
       "    <tr>\n",
       "      <th>0</th>\n",
       "      <td>975900</td>\n",
       "      <td>/m/03vyhn</td>\n",
       "      <td>2001-08-24</td>\n",
       "      <td>Akooshay</td>\n",
       "      <td>1958-08-26</td>\n",
       "      <td>F</td>\n",
       "      <td>1.62</td>\n",
       "      <td>NaN</td>\n",
       "      <td>Wanda De Jesus</td>\n",
       "      <td>42.0</td>\n",
       "      <td>/m/0bgchxw</td>\n",
       "      <td>/m/0bgcj3x</td>\n",
       "      <td>/m/03wcfv7</td>\n",
       "    </tr>\n",
       "    <tr>\n",
       "      <th>1</th>\n",
       "      <td>975900</td>\n",
       "      <td>/m/03vyhn</td>\n",
       "      <td>2001-08-24</td>\n",
       "      <td>Lieutenant Melanie Ballard</td>\n",
       "      <td>1974-08-15</td>\n",
       "      <td>F</td>\n",
       "      <td>1.78</td>\n",
       "      <td>/m/044038p</td>\n",
       "      <td>Natasha Henstridge</td>\n",
       "      <td>27.0</td>\n",
       "      <td>/m/0jys3m</td>\n",
       "      <td>/m/0bgchn4</td>\n",
       "      <td>/m/0346l4</td>\n",
       "    </tr>\n",
       "  </tbody>\n",
       "</table>\n",
       "</div>"
      ],
      "text/plain": [
       "   Wikipedia movie ID Freebase movie ID Movie release date  \\\n",
       "0              975900         /m/03vyhn         2001-08-24   \n",
       "1              975900         /m/03vyhn         2001-08-24   \n",
       "\n",
       "               Character name Actor date of birth Actor gender  \\\n",
       "0                    Akooshay          1958-08-26            F   \n",
       "1  Lieutenant Melanie Ballard          1974-08-15            F   \n",
       "\n",
       "   Actor height (in meters) Actor ethnicity (Freebase ID)          Actor name  \\\n",
       "0                      1.62                           NaN      Wanda De Jesus   \n",
       "1                      1.78                    /m/044038p  Natasha Henstridge   \n",
       "\n",
       "   Actor age at movie release Freebase character/actor map ID  \\\n",
       "0                        42.0                      /m/0bgchxw   \n",
       "1                        27.0                       /m/0jys3m   \n",
       "\n",
       "  Freebase character ID Freebase actor ID  \n",
       "0            /m/0bgcj3x        /m/03wcfv7  \n",
       "1            /m/0bgchn4         /m/0346l4  "
      ]
     },
     "execution_count": 4,
     "metadata": {},
     "output_type": "execute_result"
    }
   ],
   "source": [
    "characters.head(2)"
   ]
  },
  {
   "cell_type": "code",
   "execution_count": 5,
   "id": "a186c550",
   "metadata": {},
   "outputs": [
    {
     "data": {
      "text/html": [
       "<div>\n",
       "<style scoped>\n",
       "    .dataframe tbody tr th:only-of-type {\n",
       "        vertical-align: middle;\n",
       "    }\n",
       "\n",
       "    .dataframe tbody tr th {\n",
       "        vertical-align: top;\n",
       "    }\n",
       "\n",
       "    .dataframe thead th {\n",
       "        text-align: right;\n",
       "    }\n",
       "</style>\n",
       "<table border=\"1\" class=\"dataframe\">\n",
       "  <thead>\n",
       "    <tr style=\"text-align: right;\">\n",
       "      <th></th>\n",
       "      <th>Wikipedia movie ID</th>\n",
       "      <th>Summary</th>\n",
       "    </tr>\n",
       "  </thead>\n",
       "  <tbody>\n",
       "    <tr>\n",
       "      <th>0</th>\n",
       "      <td>23890098</td>\n",
       "      <td>Shlykov, a hard-working taxi driver and Lyosha...</td>\n",
       "    </tr>\n",
       "    <tr>\n",
       "      <th>1</th>\n",
       "      <td>31186339</td>\n",
       "      <td>The nation of Panem consists of a wealthy Capi...</td>\n",
       "    </tr>\n",
       "  </tbody>\n",
       "</table>\n",
       "</div>"
      ],
      "text/plain": [
       "   Wikipedia movie ID                                            Summary\n",
       "0            23890098  Shlykov, a hard-working taxi driver and Lyosha...\n",
       "1            31186339  The nation of Panem consists of a wealthy Capi..."
      ]
     },
     "execution_count": 5,
     "metadata": {},
     "output_type": "execute_result"
    }
   ],
   "source": [
    "summaries.head(2)"
   ]
  },
  {
   "cell_type": "markdown",
   "id": "ebe1407e",
   "metadata": {},
   "source": [
    "We first want to preprocess the data in order to remove any outliers or mistakes. For this, let's have a look at descriptive statistics for interpretable columns (like movie runtime or release date, in contrast to movie name) and figure out if there are any issues and, if so, which issues. Note that this is not necessary for the `summaries` dataframe, since we have no way of finding mistakes without reading the text."
   ]
  },
  {
   "cell_type": "markdown",
   "id": "ca7486c2",
   "metadata": {},
   "source": [
    "### Preprocessing the movies dataframe <a class=\"anchor\" id=\"movie_preprocessing\"></a>\n"
   ]
  },
  {
   "cell_type": "code",
   "execution_count": 6,
   "id": "136e067b",
   "metadata": {},
   "outputs": [
    {
     "data": {
      "text/html": [
       "<div>\n",
       "<style scoped>\n",
       "    .dataframe tbody tr th:only-of-type {\n",
       "        vertical-align: middle;\n",
       "    }\n",
       "\n",
       "    .dataframe tbody tr th {\n",
       "        vertical-align: top;\n",
       "    }\n",
       "\n",
       "    .dataframe thead th {\n",
       "        text-align: right;\n",
       "    }\n",
       "</style>\n",
       "<table border=\"1\" class=\"dataframe\">\n",
       "  <thead>\n",
       "    <tr style=\"text-align: right;\">\n",
       "      <th></th>\n",
       "      <th>Wikipedia movie ID</th>\n",
       "      <th>Freebase movie ID</th>\n",
       "      <th>Movie name</th>\n",
       "      <th>Movie release date</th>\n",
       "      <th>Movie box office revenue</th>\n",
       "      <th>Movie runtime</th>\n",
       "      <th>Movie languages</th>\n",
       "      <th>Movie countries</th>\n",
       "      <th>Movie genres</th>\n",
       "    </tr>\n",
       "  </thead>\n",
       "  <tbody>\n",
       "    <tr>\n",
       "      <th>0</th>\n",
       "      <td>975900</td>\n",
       "      <td>/m/03vyhn</td>\n",
       "      <td>Ghosts of Mars</td>\n",
       "      <td>2001-08-24</td>\n",
       "      <td>14010832.0</td>\n",
       "      <td>98.0</td>\n",
       "      <td>{'/m/02h40lc': 'English Language'}</td>\n",
       "      <td>{'/m/09c7w0': 'United States of America'}</td>\n",
       "      <td>{'/m/01jfsb': 'Thriller', '/m/06n90': 'Science...</td>\n",
       "    </tr>\n",
       "    <tr>\n",
       "      <th>1</th>\n",
       "      <td>3196793</td>\n",
       "      <td>/m/08yl5d</td>\n",
       "      <td>Getting Away with Murder: The JonBenét Ramsey ...</td>\n",
       "      <td>2000-02-16</td>\n",
       "      <td>NaN</td>\n",
       "      <td>95.0</td>\n",
       "      <td>{'/m/02h40lc': 'English Language'}</td>\n",
       "      <td>{'/m/09c7w0': 'United States of America'}</td>\n",
       "      <td>{'/m/02n4kr': 'Mystery', '/m/03bxz7': 'Biograp...</td>\n",
       "    </tr>\n",
       "    <tr>\n",
       "      <th>2</th>\n",
       "      <td>28463795</td>\n",
       "      <td>/m/0crgdbh</td>\n",
       "      <td>Brun bitter</td>\n",
       "      <td>1988</td>\n",
       "      <td>NaN</td>\n",
       "      <td>83.0</td>\n",
       "      <td>{'/m/05f_3': 'Norwegian Language'}</td>\n",
       "      <td>{'/m/05b4w': 'Norway'}</td>\n",
       "      <td>{'/m/0lsxr': 'Crime Fiction', '/m/07s9rl0': 'D...</td>\n",
       "    </tr>\n",
       "    <tr>\n",
       "      <th>3</th>\n",
       "      <td>9363483</td>\n",
       "      <td>/m/0285_cd</td>\n",
       "      <td>White Of The Eye</td>\n",
       "      <td>1987</td>\n",
       "      <td>NaN</td>\n",
       "      <td>110.0</td>\n",
       "      <td>{'/m/02h40lc': 'English Language'}</td>\n",
       "      <td>{'/m/07ssc': 'United Kingdom'}</td>\n",
       "      <td>{'/m/01jfsb': 'Thriller', '/m/0glj9q': 'Erotic...</td>\n",
       "    </tr>\n",
       "    <tr>\n",
       "      <th>4</th>\n",
       "      <td>261236</td>\n",
       "      <td>/m/01mrr1</td>\n",
       "      <td>A Woman in Flames</td>\n",
       "      <td>1983</td>\n",
       "      <td>NaN</td>\n",
       "      <td>106.0</td>\n",
       "      <td>{'/m/04306rv': 'German Language'}</td>\n",
       "      <td>{'/m/0345h': 'Germany'}</td>\n",
       "      <td>{'/m/07s9rl0': 'Drama'}</td>\n",
       "    </tr>\n",
       "  </tbody>\n",
       "</table>\n",
       "</div>"
      ],
      "text/plain": [
       "   Wikipedia movie ID Freebase movie ID  \\\n",
       "0              975900         /m/03vyhn   \n",
       "1             3196793         /m/08yl5d   \n",
       "2            28463795        /m/0crgdbh   \n",
       "3             9363483        /m/0285_cd   \n",
       "4              261236         /m/01mrr1   \n",
       "\n",
       "                                          Movie name Movie release date  \\\n",
       "0                                     Ghosts of Mars         2001-08-24   \n",
       "1  Getting Away with Murder: The JonBenét Ramsey ...         2000-02-16   \n",
       "2                                        Brun bitter               1988   \n",
       "3                                   White Of The Eye               1987   \n",
       "4                                  A Woman in Flames               1983   \n",
       "\n",
       "   Movie box office revenue  Movie runtime  \\\n",
       "0                14010832.0           98.0   \n",
       "1                       NaN           95.0   \n",
       "2                       NaN           83.0   \n",
       "3                       NaN          110.0   \n",
       "4                       NaN          106.0   \n",
       "\n",
       "                      Movie languages  \\\n",
       "0  {'/m/02h40lc': 'English Language'}   \n",
       "1  {'/m/02h40lc': 'English Language'}   \n",
       "2  {'/m/05f_3': 'Norwegian Language'}   \n",
       "3  {'/m/02h40lc': 'English Language'}   \n",
       "4   {'/m/04306rv': 'German Language'}   \n",
       "\n",
       "                             Movie countries  \\\n",
       "0  {'/m/09c7w0': 'United States of America'}   \n",
       "1  {'/m/09c7w0': 'United States of America'}   \n",
       "2                     {'/m/05b4w': 'Norway'}   \n",
       "3             {'/m/07ssc': 'United Kingdom'}   \n",
       "4                    {'/m/0345h': 'Germany'}   \n",
       "\n",
       "                                        Movie genres  \n",
       "0  {'/m/01jfsb': 'Thriller', '/m/06n90': 'Science...  \n",
       "1  {'/m/02n4kr': 'Mystery', '/m/03bxz7': 'Biograp...  \n",
       "2  {'/m/0lsxr': 'Crime Fiction', '/m/07s9rl0': 'D...  \n",
       "3  {'/m/01jfsb': 'Thriller', '/m/0glj9q': 'Erotic...  \n",
       "4                            {'/m/07s9rl0': 'Drama'}  "
      ]
     },
     "execution_count": 6,
     "metadata": {},
     "output_type": "execute_result"
    }
   ],
   "source": [
    "movies.head()"
   ]
  },
  {
   "cell_type": "markdown",
   "id": "f4b10572",
   "metadata": {},
   "source": [
    "In the movies dataframe, the interpretable columns are `Movie release date`, `Movie box office revenue` and `Movie runtime`. We can also have a look at all distinct genres, countries and languages to see if anything is wrong. Here is a (non-exhaustive) list of things we can do:\n",
    "- check for outliers (and filter them if necessary)\n",
    "- check for missing values\n",
    "- process the values to be consistent\n",
    "- create a list of distinct genres/languages/countries\n",
    "- normalize the values (min-max or $\\frac{x_i-\\mu}{\\sigma}$)"
   ]
  },
  {
   "cell_type": "markdown",
   "id": "d0aecc74",
   "metadata": {},
   "source": [
    "#### Movie release date <a class=\"anchor\" id=\"movie_release\"></a>"
   ]
  },
  {
   "cell_type": "markdown",
   "id": "16b40a3a",
   "metadata": {},
   "source": [
    "First, we notice that the release date formats are inconsistent. Some are of the form `year` and others, `yyyy-mm-dd`. In order to compare these, we add a new column containing only the year."
   ]
  },
  {
   "cell_type": "code",
   "execution_count": 7,
   "id": "93f47aa3",
   "metadata": {},
   "outputs": [
    {
     "data": {
      "text/html": [
       "<div>\n",
       "<style scoped>\n",
       "    .dataframe tbody tr th:only-of-type {\n",
       "        vertical-align: middle;\n",
       "    }\n",
       "\n",
       "    .dataframe tbody tr th {\n",
       "        vertical-align: top;\n",
       "    }\n",
       "\n",
       "    .dataframe thead th {\n",
       "        text-align: right;\n",
       "    }\n",
       "</style>\n",
       "<table border=\"1\" class=\"dataframe\">\n",
       "  <thead>\n",
       "    <tr style=\"text-align: right;\">\n",
       "      <th></th>\n",
       "      <th>Wikipedia movie ID</th>\n",
       "      <th>Freebase movie ID</th>\n",
       "      <th>Movie name</th>\n",
       "      <th>Movie release date</th>\n",
       "      <th>Movie box office revenue</th>\n",
       "      <th>Movie runtime</th>\n",
       "      <th>Movie languages</th>\n",
       "      <th>Movie countries</th>\n",
       "      <th>Movie genres</th>\n",
       "      <th>Movie year</th>\n",
       "    </tr>\n",
       "  </thead>\n",
       "  <tbody>\n",
       "    <tr>\n",
       "      <th>0</th>\n",
       "      <td>975900</td>\n",
       "      <td>/m/03vyhn</td>\n",
       "      <td>Ghosts of Mars</td>\n",
       "      <td>2001-08-24</td>\n",
       "      <td>14010832.0</td>\n",
       "      <td>98.0</td>\n",
       "      <td>{'/m/02h40lc': 'English Language'}</td>\n",
       "      <td>{'/m/09c7w0': 'United States of America'}</td>\n",
       "      <td>{'/m/01jfsb': 'Thriller', '/m/06n90': 'Science...</td>\n",
       "      <td>2001.0</td>\n",
       "    </tr>\n",
       "    <tr>\n",
       "      <th>1</th>\n",
       "      <td>3196793</td>\n",
       "      <td>/m/08yl5d</td>\n",
       "      <td>Getting Away with Murder: The JonBenét Ramsey ...</td>\n",
       "      <td>2000-02-16</td>\n",
       "      <td>NaN</td>\n",
       "      <td>95.0</td>\n",
       "      <td>{'/m/02h40lc': 'English Language'}</td>\n",
       "      <td>{'/m/09c7w0': 'United States of America'}</td>\n",
       "      <td>{'/m/02n4kr': 'Mystery', '/m/03bxz7': 'Biograp...</td>\n",
       "      <td>2000.0</td>\n",
       "    </tr>\n",
       "    <tr>\n",
       "      <th>2</th>\n",
       "      <td>28463795</td>\n",
       "      <td>/m/0crgdbh</td>\n",
       "      <td>Brun bitter</td>\n",
       "      <td>1988</td>\n",
       "      <td>NaN</td>\n",
       "      <td>83.0</td>\n",
       "      <td>{'/m/05f_3': 'Norwegian Language'}</td>\n",
       "      <td>{'/m/05b4w': 'Norway'}</td>\n",
       "      <td>{'/m/0lsxr': 'Crime Fiction', '/m/07s9rl0': 'D...</td>\n",
       "      <td>1988.0</td>\n",
       "    </tr>\n",
       "    <tr>\n",
       "      <th>3</th>\n",
       "      <td>9363483</td>\n",
       "      <td>/m/0285_cd</td>\n",
       "      <td>White Of The Eye</td>\n",
       "      <td>1987</td>\n",
       "      <td>NaN</td>\n",
       "      <td>110.0</td>\n",
       "      <td>{'/m/02h40lc': 'English Language'}</td>\n",
       "      <td>{'/m/07ssc': 'United Kingdom'}</td>\n",
       "      <td>{'/m/01jfsb': 'Thriller', '/m/0glj9q': 'Erotic...</td>\n",
       "      <td>1987.0</td>\n",
       "    </tr>\n",
       "    <tr>\n",
       "      <th>4</th>\n",
       "      <td>261236</td>\n",
       "      <td>/m/01mrr1</td>\n",
       "      <td>A Woman in Flames</td>\n",
       "      <td>1983</td>\n",
       "      <td>NaN</td>\n",
       "      <td>106.0</td>\n",
       "      <td>{'/m/04306rv': 'German Language'}</td>\n",
       "      <td>{'/m/0345h': 'Germany'}</td>\n",
       "      <td>{'/m/07s9rl0': 'Drama'}</td>\n",
       "      <td>1983.0</td>\n",
       "    </tr>\n",
       "  </tbody>\n",
       "</table>\n",
       "</div>"
      ],
      "text/plain": [
       "   Wikipedia movie ID Freebase movie ID  \\\n",
       "0              975900         /m/03vyhn   \n",
       "1             3196793         /m/08yl5d   \n",
       "2            28463795        /m/0crgdbh   \n",
       "3             9363483        /m/0285_cd   \n",
       "4              261236         /m/01mrr1   \n",
       "\n",
       "                                          Movie name Movie release date  \\\n",
       "0                                     Ghosts of Mars         2001-08-24   \n",
       "1  Getting Away with Murder: The JonBenét Ramsey ...         2000-02-16   \n",
       "2                                        Brun bitter               1988   \n",
       "3                                   White Of The Eye               1987   \n",
       "4                                  A Woman in Flames               1983   \n",
       "\n",
       "   Movie box office revenue  Movie runtime  \\\n",
       "0                14010832.0           98.0   \n",
       "1                       NaN           95.0   \n",
       "2                       NaN           83.0   \n",
       "3                       NaN          110.0   \n",
       "4                       NaN          106.0   \n",
       "\n",
       "                      Movie languages  \\\n",
       "0  {'/m/02h40lc': 'English Language'}   \n",
       "1  {'/m/02h40lc': 'English Language'}   \n",
       "2  {'/m/05f_3': 'Norwegian Language'}   \n",
       "3  {'/m/02h40lc': 'English Language'}   \n",
       "4   {'/m/04306rv': 'German Language'}   \n",
       "\n",
       "                             Movie countries  \\\n",
       "0  {'/m/09c7w0': 'United States of America'}   \n",
       "1  {'/m/09c7w0': 'United States of America'}   \n",
       "2                     {'/m/05b4w': 'Norway'}   \n",
       "3             {'/m/07ssc': 'United Kingdom'}   \n",
       "4                    {'/m/0345h': 'Germany'}   \n",
       "\n",
       "                                        Movie genres  Movie year  \n",
       "0  {'/m/01jfsb': 'Thriller', '/m/06n90': 'Science...      2001.0  \n",
       "1  {'/m/02n4kr': 'Mystery', '/m/03bxz7': 'Biograp...      2000.0  \n",
       "2  {'/m/0lsxr': 'Crime Fiction', '/m/07s9rl0': 'D...      1988.0  \n",
       "3  {'/m/01jfsb': 'Thriller', '/m/0glj9q': 'Erotic...      1987.0  \n",
       "4                            {'/m/07s9rl0': 'Drama'}      1983.0  "
      ]
     },
     "execution_count": 7,
     "metadata": {},
     "output_type": "execute_result"
    }
   ],
   "source": [
    "def get_year(date):\n",
    "    return int(str(date).split('-')[0])\n",
    "\n",
    "movies['Movie year'] = movies['Movie release date'].apply(lambda d: get_year(d) if type(d)==str else d)\n",
    "movies.head()"
   ]
  },
  {
   "cell_type": "markdown",
   "id": "858a3f9b",
   "metadata": {},
   "source": [
    "`Movie year` contains the year of the movie release date or is NaN if there was no value to begin with. First, let's check (sanity check) that there are still as many missing values for the newly created column as for the previous release date column. We also print the percentage of missing values overall."
   ]
  },
  {
   "cell_type": "code",
   "execution_count": 8,
   "id": "cd623123",
   "metadata": {},
   "outputs": [],
   "source": [
    "assert movies['Movie year'].isna().sum() == movies['Movie release date'].isna().sum()"
   ]
  },
  {
   "cell_type": "code",
   "execution_count": 9,
   "id": "dda691de",
   "metadata": {},
   "outputs": [],
   "source": [
    "def get_missing_values_percentage(dataframe, column):\n",
    "    return dataframe[column].isna().sum()/len(dataframe[column])*100"
   ]
  },
  {
   "cell_type": "code",
   "execution_count": 10,
   "id": "9a006882",
   "metadata": {},
   "outputs": [
    {
     "name": "stdout",
     "output_type": "stream",
     "text": [
      "There is 8.44% of data missing in total.\n"
     ]
    }
   ],
   "source": [
    "print(f\"There is {get_missing_values_percentage(movies, 'Movie year'):.2f}% of data missing in total.\")"
   ]
  },
  {
   "cell_type": "markdown",
   "id": "04060fef",
   "metadata": {},
   "source": [
    "Now, we can explore the release year statistics and find outliers:"
   ]
  },
  {
   "cell_type": "code",
   "execution_count": 11,
   "id": "dc6bc472",
   "metadata": {},
   "outputs": [
    {
     "data": {
      "text/plain": [
       "count    74839.000000\n",
       "mean      1977.476530\n",
       "std         29.101536\n",
       "min       1010.000000\n",
       "25%       1956.000000\n",
       "50%       1985.000000\n",
       "75%       2004.000000\n",
       "max       2016.000000\n",
       "Name: Movie year, dtype: float64"
      ]
     },
     "execution_count": 11,
     "metadata": {},
     "output_type": "execute_result"
    }
   ],
   "source": [
    "movies['Movie year'].describe()"
   ]
  },
  {
   "cell_type": "code",
   "execution_count": 12,
   "id": "e7e0339f",
   "metadata": {},
   "outputs": [
    {
     "data": {
      "image/png": "[encoded data removed]",
      "text/plain": [
       "<Figure size 1400x150 with 1 Axes>"
      ]
     },
     "metadata": {},
     "output_type": "display_data"
    }
   ],
   "source": [
    "def plot_boxplot(dataframe, column, title):\n",
    "    sns.set(rc={'figure.figsize':(14, 1.5)})\n",
    "    sns.boxplot(dataframe[column], orient=\"h\")\n",
    "    plt.yticks([])\n",
    "    plt.title(title)\n",
    "    sns.reset_defaults()\n",
    "    plt.show()\n",
    "    \n",
    "plot_boxplot(movies, 'Movie year', 'Release year')"
   ]
  },
  {
   "cell_type": "markdown",
   "id": "257c3cfb",
   "metadata": {},
   "source": [
    "Clearly, there is an outlier. A movie supposedly came out around 1000 (1010 according to the statistics above). This doesn't make any sense, so let's filter it out. note than we keep the missing values because since we alter the whole dataframe, we may get rid of too much information if, for each column, we remove those containing a nan."
   ]
  },
  {
   "cell_type": "code",
   "execution_count": 13,
   "id": "d79a89d2",
   "metadata": {},
   "outputs": [],
   "source": [
    "movies = movies[(movies['Movie year']>1010) | (movies['Movie year'].isna()==1)]"
   ]
  },
  {
   "cell_type": "code",
   "execution_count": 14,
   "id": "98b82c0a",
   "metadata": {},
   "outputs": [
    {
     "data": {
      "image/png": "[encoded data removed]",
      "text/plain": [
       "<Figure size 1400x150 with 1 Axes>"
      ]
     },
     "metadata": {},
     "output_type": "display_data"
    },
    {
     "data": {
      "text/plain": [
       "count    74838.000000\n",
       "mean      1977.489457\n",
       "std         28.886039\n",
       "min       1888.000000\n",
       "25%       1956.000000\n",
       "50%       1985.000000\n",
       "75%       2004.000000\n",
       "max       2016.000000\n",
       "Name: Movie year, dtype: float64"
      ]
     },
     "execution_count": 14,
     "metadata": {},
     "output_type": "execute_result"
    }
   ],
   "source": [
    "plot_boxplot(movies, 'Movie year', 'Release year')\n",
    "movies['Movie year'].describe()"
   ]
  },
  {
   "cell_type": "markdown",
   "id": "2669a772",
   "metadata": {},
   "source": [
    "Now, the distribution seems to make sense, with the first movies in 1888 and a right-skewed distribution (there are more movies being produced now than in the 19th century (or early 20th)). However, for our analysis, we are just interested in keeping movies more recent that 1900, so let's filter the other ones out:"
   ]
  },
  {
   "cell_type": "code",
   "execution_count": 15,
   "id": "afcecb78",
   "metadata": {},
   "outputs": [
    {
     "data": {
      "image/png": "[encoded data removed]",
      "text/plain": [
       "<Figure size 1400x150 with 1 Axes>"
      ]
     },
     "metadata": {},
     "output_type": "display_data"
    }
   ],
   "source": [
    "movies = movies[(movies['Movie year']>1900) | (movies['Movie year'].isna()==1)]\n",
    "plot_boxplot(movies, 'Movie year', 'Release year')"
   ]
  },
  {
   "cell_type": "markdown",
   "id": "c406e83b",
   "metadata": {},
   "source": [
    "#### Movie box office revenue <a class=\"anchor\" id=\"box_office\"></a>"
   ]
  },
  {
   "cell_type": "code",
   "execution_count": 16,
   "id": "69aa9772",
   "metadata": {},
   "outputs": [
    {
     "data": {
      "text/plain": [
       "count    8.399000e+03\n",
       "mean     4.800359e+07\n",
       "std      1.121868e+08\n",
       "min      1.000000e+04\n",
       "25%      2.083876e+06\n",
       "50%      1.063969e+07\n",
       "75%      4.074810e+07\n",
       "max      2.782275e+09\n",
       "Name: Movie box office revenue, dtype: float64"
      ]
     },
     "execution_count": 16,
     "metadata": {},
     "output_type": "execute_result"
    }
   ],
   "source": [
    "movies['Movie box office revenue'].describe()"
   ]
  },
  {
   "cell_type": "code",
   "execution_count": 17,
   "id": "a8a61b54",
   "metadata": {},
   "outputs": [
    {
     "data": {
      "image/png": "[encoded data removed]",
      "text/plain": [
       "<Figure size 1400x150 with 1 Axes>"
      ]
     },
     "metadata": {},
     "output_type": "display_data"
    }
   ],
   "source": [
    "plot_boxplot(movies, 'Movie box office revenue', 'Box office revenue')"
   ]
  },
  {
   "cell_type": "markdown",
   "id": "d241ded0",
   "metadata": {},
   "source": [
    "There seem to be many outliers, but this makes sense for box office revenue. Instead, let's focus on seeing how many values are missing."
   ]
  },
  {
   "cell_type": "code",
   "execution_count": 18,
   "id": "996ca8f8",
   "metadata": {},
   "outputs": [
    {
     "name": "stdout",
     "output_type": "stream",
     "text": [
      "There is 89.70% of data missing.\n"
     ]
    }
   ],
   "source": [
    "print(f\"There is {get_missing_values_percentage(movies, 'Movie box office revenue'):.2f}% of data missing.\")"
   ]
  },
  {
   "cell_type": "markdown",
   "id": "f0eeb305",
   "metadata": {},
   "source": [
    "89% of missing data is quite a lot. This is why we will later on, in order to not just rely on the 11% of data with box office revenue data, add another database containing ratings in order to analyze the success of a movie. But first, let's see how this missing data evolves over time."
   ]
  },
  {
   "cell_type": "code",
   "execution_count": 19,
   "id": "2c555494",
   "metadata": {},
   "outputs": [],
   "source": [
    "def plot_missing_values(df, str_col):\n",
    "    df['missing'] = pd.isnull(df[str_col])*100 #to convert to percentage\n",
    "    plt.title(f'Percentage of missing {str_col.lower()} data per year')\n",
    "    sns.lineplot(x = \"Movie year\", y = 'missing', data = df, errorbar = None)\n",
    "    plt.ylabel(f\"Percentage of missing {str_col.lower()} [%]\")\n",
    "    plt.show()\n",
    "    df.drop(columns='missing', inplace=True)"
   ]
  },
  {
   "cell_type": "code",
   "execution_count": 20,
   "id": "28cf430b",
   "metadata": {},
   "outputs": [
    {
     "data": {
      "image/png": "[encoded data removed]",
      "text/plain": [
       "<Figure size 640x480 with 1 Axes>"
      ]
     },
     "metadata": {},
     "output_type": "display_data"
    }
   ],
   "source": [
    "plot_missing_values(movies, 'Movie box office revenue')"
   ]
  },
  {
   "cell_type": "markdown",
   "id": "1d6e7e63",
   "metadata": {},
   "source": [
    "As is to be expected, there is almost 100% of missing data until about 1930. Then, we have more data (only roughly 80% missing) in the 1950s and 1980s to 2010s. However, 80% of missing data is still a lot, which motivates our choice to add a dataset containing ratings in order to have another measure of success. This is done further down in this notebook."
   ]
  },
  {
   "cell_type": "markdown",
   "id": "3d087512",
   "metadata": {},
   "source": [
    "#### Movie runtime <a class=\"anchor\" id=\"runtime\"></a>"
   ]
  },
  {
   "cell_type": "markdown",
   "id": "74ca4512",
   "metadata": {},
   "source": [
    "Let's start by having a look at the distribution and how much data is missing."
   ]
  },
  {
   "cell_type": "code",
   "execution_count": 21,
   "id": "f28aed84",
   "metadata": {},
   "outputs": [
    {
     "data": {
      "text/plain": [
       "count    6.119800e+04\n",
       "mean     1.119839e+02\n",
       "std      4.363380e+03\n",
       "min      5.000000e-02\n",
       "25%      8.100000e+01\n",
       "50%      9.300000e+01\n",
       "75%      1.060000e+02\n",
       "max      1.079281e+06\n",
       "Name: Movie runtime, dtype: float64"
      ]
     },
     "execution_count": 21,
     "metadata": {},
     "output_type": "execute_result"
    }
   ],
   "source": [
    "movies['Movie runtime'].describe()"
   ]
  },
  {
   "cell_type": "code",
   "execution_count": 22,
   "id": "9e8fcaa3",
   "metadata": {},
   "outputs": [
    {
     "data": {
      "image/png": "[encoded data removed]",
      "text/plain": [
       "<Figure size 1400x150 with 1 Axes>"
      ]
     },
     "metadata": {},
     "output_type": "display_data"
    }
   ],
   "source": [
    "plot_boxplot(movies, 'Movie runtime', 'Runtime')"
   ]
  },
  {
   "cell_type": "markdown",
   "id": "8027364f",
   "metadata": {},
   "source": [
    "There is a clear outlier, a movie seems to be about 1079281 minutes long, which is about 2 years. This obviously makes no sense. We find the longest movies as follows:"
   ]
  },
  {
   "cell_type": "code",
   "execution_count": 23,
   "id": "9d507a2c",
   "metadata": {},
   "outputs": [
    {
     "data": {
      "text/html": [
       "<div>\n",
       "<style scoped>\n",
       "    .dataframe tbody tr th:only-of-type {\n",
       "        vertical-align: middle;\n",
       "    }\n",
       "\n",
       "    .dataframe tbody tr th {\n",
       "        vertical-align: top;\n",
       "    }\n",
       "\n",
       "    .dataframe thead th {\n",
       "        text-align: right;\n",
       "    }\n",
       "</style>\n",
       "<table border=\"1\" class=\"dataframe\">\n",
       "  <thead>\n",
       "    <tr style=\"text-align: right;\">\n",
       "      <th></th>\n",
       "      <th>Wikipedia movie ID</th>\n",
       "      <th>Freebase movie ID</th>\n",
       "      <th>Movie name</th>\n",
       "      <th>Movie release date</th>\n",
       "      <th>Movie box office revenue</th>\n",
       "      <th>Movie runtime</th>\n",
       "      <th>Movie languages</th>\n",
       "      <th>Movie countries</th>\n",
       "      <th>Movie genres</th>\n",
       "      <th>Movie year</th>\n",
       "    </tr>\n",
       "  </thead>\n",
       "  <tbody>\n",
       "    <tr>\n",
       "      <th>12804</th>\n",
       "      <td>10815585</td>\n",
       "      <td>/m/02qqy23</td>\n",
       "      <td>Zero Tolerance</td>\n",
       "      <td>1995</td>\n",
       "      <td>NaN</td>\n",
       "      <td>1079281.0</td>\n",
       "      <td>{'/m/02h40lc': 'English Language'}</td>\n",
       "      <td>{'/m/09c7w0': 'United States of America'}</td>\n",
       "      <td>{'/m/01jfsb': 'Thriller', '/m/0lsxr': 'Crime F...</td>\n",
       "      <td>1995.0</td>\n",
       "    </tr>\n",
       "    <tr>\n",
       "      <th>62962</th>\n",
       "      <td>32441022</td>\n",
       "      <td>/m/0gyr803</td>\n",
       "      <td>Modern Times Forever</td>\n",
       "      <td>NaN</td>\n",
       "      <td>NaN</td>\n",
       "      <td>14400.0</td>\n",
       "      <td>{}</td>\n",
       "      <td>{}</td>\n",
       "      <td>{'/m/0jtdp': 'Documentary'}</td>\n",
       "      <td>NaN</td>\n",
       "    </tr>\n",
       "    <tr>\n",
       "      <th>71100</th>\n",
       "      <td>25345684</td>\n",
       "      <td>/m/09gqhh3</td>\n",
       "      <td>Cinématon</td>\n",
       "      <td>2011</td>\n",
       "      <td>NaN</td>\n",
       "      <td>9360.0</td>\n",
       "      <td>{'/m/064_8sq': 'French Language'}</td>\n",
       "      <td>{'/m/0f8l9c': 'France'}</td>\n",
       "      <td>{'/m/0424mc': 'Experimental film', '/m/0jtdp':...</td>\n",
       "      <td>2011.0</td>\n",
       "    </tr>\n",
       "    <tr>\n",
       "      <th>21733</th>\n",
       "      <td>14545195</td>\n",
       "      <td>/m/03qcghh</td>\n",
       "      <td>Matrjoschka</td>\n",
       "      <td>2006-04-23</td>\n",
       "      <td>NaN</td>\n",
       "      <td>5700.0</td>\n",
       "      <td>{}</td>\n",
       "      <td>{'/m/0345h': 'Germany'}</td>\n",
       "      <td>{'/m/0219x_': 'Indie', '/m/0jtdp': 'Documentary'}</td>\n",
       "      <td>2006.0</td>\n",
       "    </tr>\n",
       "    <tr>\n",
       "      <th>46666</th>\n",
       "      <td>884435</td>\n",
       "      <td>/m/03lmv2</td>\n",
       "      <td>The Cure for Insomnia</td>\n",
       "      <td>1987-01-31</td>\n",
       "      <td>NaN</td>\n",
       "      <td>5220.0</td>\n",
       "      <td>{'/m/02h40lc': 'English Language'}</td>\n",
       "      <td>{'/m/09c7w0': 'United States of America'}</td>\n",
       "      <td>{'/m/02n4lw': 'Art film'}</td>\n",
       "      <td>1987.0</td>\n",
       "    </tr>\n",
       "  </tbody>\n",
       "</table>\n",
       "</div>"
      ],
      "text/plain": [
       "       Wikipedia movie ID Freebase movie ID             Movie name  \\\n",
       "12804            10815585        /m/02qqy23         Zero Tolerance   \n",
       "62962            32441022        /m/0gyr803   Modern Times Forever   \n",
       "71100            25345684        /m/09gqhh3              Cinématon   \n",
       "21733            14545195        /m/03qcghh            Matrjoschka   \n",
       "46666              884435         /m/03lmv2  The Cure for Insomnia   \n",
       "\n",
       "      Movie release date  Movie box office revenue  Movie runtime  \\\n",
       "12804               1995                       NaN      1079281.0   \n",
       "62962                NaN                       NaN        14400.0   \n",
       "71100               2011                       NaN         9360.0   \n",
       "21733         2006-04-23                       NaN         5700.0   \n",
       "46666         1987-01-31                       NaN         5220.0   \n",
       "\n",
       "                          Movie languages  \\\n",
       "12804  {'/m/02h40lc': 'English Language'}   \n",
       "62962                                  {}   \n",
       "71100   {'/m/064_8sq': 'French Language'}   \n",
       "21733                                  {}   \n",
       "46666  {'/m/02h40lc': 'English Language'}   \n",
       "\n",
       "                                 Movie countries  \\\n",
       "12804  {'/m/09c7w0': 'United States of America'}   \n",
       "62962                                         {}   \n",
       "71100                    {'/m/0f8l9c': 'France'}   \n",
       "21733                    {'/m/0345h': 'Germany'}   \n",
       "46666  {'/m/09c7w0': 'United States of America'}   \n",
       "\n",
       "                                            Movie genres  Movie year  \n",
       "12804  {'/m/01jfsb': 'Thriller', '/m/0lsxr': 'Crime F...      1995.0  \n",
       "62962                        {'/m/0jtdp': 'Documentary'}         NaN  \n",
       "71100  {'/m/0424mc': 'Experimental film', '/m/0jtdp':...      2011.0  \n",
       "21733  {'/m/0219x_': 'Indie', '/m/0jtdp': 'Documentary'}      2006.0  \n",
       "46666                          {'/m/02n4lw': 'Art film'}      1987.0  "
      ]
     },
     "execution_count": 23,
     "metadata": {},
     "output_type": "execute_result"
    }
   ],
   "source": [
    "movies.sort_values(by = 'Movie runtime', ascending=False).head(5)"
   ]
  },
  {
   "cell_type": "markdown",
   "id": "df4b9a4d",
   "metadata": {},
   "source": [
    "After some manual research and surprisingly given their length, the other movies seem correct. However, \"Zero tolerance\" is a mistake, so we filter it out. Note that we also remove movies that have a runtime equal to 0, as that does not make sense."
   ]
  },
  {
   "cell_type": "code",
   "execution_count": 24,
   "id": "3e69b86b",
   "metadata": {},
   "outputs": [],
   "source": [
    "runtime_in_range = (movies['Movie runtime'] <= 15000) & (movies['Movie runtime'] > 0)\n",
    "movies = movies[runtime_in_range | (movies['Movie runtime'].isna()==1)]"
   ]
  },
  {
   "cell_type": "markdown",
   "id": "b32e99a9",
   "metadata": {},
   "source": [
    "Next, let's look at how much data is missing. 25% of data is a lot, but as we probably will not use it for our project, it does not matter so much."
   ]
  },
  {
   "cell_type": "code",
   "execution_count": 25,
   "id": "c77a7586",
   "metadata": {},
   "outputs": [
    {
     "name": "stdout",
     "output_type": "stream",
     "text": [
      "24.96% of data is missing\n"
     ]
    },
    {
     "data": {
      "image/png": "[encoded data removed]",
      "text/plain": [
       "<Figure size 640x480 with 1 Axes>"
      ]
     },
     "metadata": {},
     "output_type": "display_data"
    }
   ],
   "source": [
    "print(f\"{get_missing_values_percentage(movies, 'Movie runtime'):.2f}% of data is missing\")\n",
    "plot_missing_values(movies, 'Movie runtime')"
   ]
  },
  {
   "cell_type": "markdown",
   "id": "b63112a1",
   "metadata": {},
   "source": [
    "#### Movie languages  <a class=\"anchor\" id=\"language\"></a>\n"
   ]
  },
  {
   "cell_type": "markdown",
   "id": "320054e2",
   "metadata": {},
   "source": [
    "Movie languages, countries and genres are all dictionaries with freebase IDs as keys and strings (understandable for us) as values. To find \"outliers\" or abnormalities, we will iterate over the dataframe and make a dictionary mapping the strings (which should be unique also) to their number of occurrences. Then, we can check the least common languages (and the same for countries and genres) to see if they make sense (or if there is a typo or so for example). We use `get_values_occurrences`, a function defined in `preprocessing_helper` to do this."
   ]
  },
  {
   "cell_type": "code",
   "execution_count": 26,
   "id": "d6e16a8b",
   "metadata": {},
   "outputs": [
    {
     "data": {
      "text/plain": [
       "[('aceh language', 1),\n",
       " ('chhattisgarhi language', 1),\n",
       " ('sunda language', 1),\n",
       " ('picard language', 1),\n",
       " ('pawnee language', 1)]"
      ]
     },
     "execution_count": 26,
     "metadata": {},
     "output_type": "execute_result"
    }
   ],
   "source": [
    "languages_occurrences = get_values_occurrences(movies, 'Movie languages')\n",
    "languages_sorted = sorted(languages_occurrences.items(), key=lambda x:x[1], reverse=False)\n",
    "languages_sorted[0:5]"
   ]
  },
  {
   "cell_type": "markdown",
   "id": "e353fd6f",
   "metadata": {},
   "source": [
    "While the least common languages don't look like typos, we do notice that for example, we did notice there is one occurence of \"Deutsch\", which should clearly belong to the 2258 movies with \"German Language\". The same goes for \"Italian\" and \"Japan\". However, we probably will not consider languages a lot in our project and there do not seem to be many such \"mistakes\", so we leave this as it is. Note that, as proof, we printed there occurrences below."
   ]
  },
  {
   "cell_type": "code",
   "execution_count": 27,
   "id": "1cb3cc2e",
   "metadata": {},
   "outputs": [
    {
     "data": {
      "text/plain": [
       "(('deutsch', 1), ('italian', 2), ('japan', 2))"
      ]
     },
     "execution_count": 27,
     "metadata": {},
     "output_type": "execute_result"
    }
   ],
   "source": [
    "languages_sorted[23], languages_sorted[30], languages_sorted[40]"
   ]
  },
  {
   "cell_type": "markdown",
   "id": "4e01c99d",
   "metadata": {},
   "source": [
    "#### Movie countries <a class=\"anchor\" id=\"countries\"></a>\n"
   ]
  },
  {
   "cell_type": "code",
   "execution_count": 28,
   "id": "9b141e79",
   "metadata": {},
   "outputs": [],
   "source": [
    "countries_occurrences = get_values_occurrences(movies, 'Movie countries')"
   ]
  },
  {
   "cell_type": "code",
   "execution_count": 29,
   "id": "bf244a1a",
   "metadata": {},
   "outputs": [
    {
     "data": {
      "text/plain": [
       "[('united states of america', 34373),\n",
       " ('india', 8411),\n",
       " ('united kingdom', 7836),\n",
       " ('france', 4306),\n",
       " ('italy', 3163),\n",
       " ('japan', 2647),\n",
       " ('canada', 2534),\n",
       " ('germany', 2390),\n",
       " ('argentina', 1467),\n",
       " ('hong kong', 1240)]"
      ]
     },
     "execution_count": 29,
     "metadata": {},
     "output_type": "execute_result"
    }
   ],
   "source": [
    "country_sorted = sorted(countries_occurrences.items(), key=lambda x:x[1], reverse=True)\n",
    "country_sorted[0:10]"
   ]
  },
  {
   "cell_type": "code",
   "execution_count": 30,
   "id": "ddbd7ae5",
   "metadata": {},
   "outputs": [
    {
     "data": {
      "text/plain": [
       "[('crime', 1),\n",
       " ('iraqi kurdistan', 1),\n",
       " ('turkmenistan', 1),\n",
       " ('guinea-bissau', 1),\n",
       " ('republic of china', 1),\n",
       " ('macau', 1),\n",
       " ('german language', 1),\n",
       " ('ukranian ssr', 1),\n",
       " ('jordan', 2),\n",
       " ('soviet occupation zone', 2),\n",
       " ('malayalam language', 2)]"
      ]
     },
     "execution_count": 30,
     "metadata": {},
     "output_type": "execute_result"
    }
   ],
   "source": [
    "country_sorted = sorted(countries_occurrences.items(), key=lambda x:x[1], reverse=False)\n",
    "country_sorted[0:11]"
   ]
  },
  {
   "cell_type": "markdown",
   "id": "6451956c",
   "metadata": {},
   "source": [
    "The most common countries are what we would expect, but we did notice there are some irregularities. For example, one movie (\"The Flying Scotsman\", ID = 27814939) have \"Crime\" as movie country. This is obviously a mistake. Likewise, a few movies have \"German language\" and/or \"Malayalam Language\", which is also incorrect (should be in the languages column). After some testing (the code used is below), we found that all of the movies with noticed abnormalities don't have box office revenue information, so we decide to leave them in, as they will be ignored when we run our analyses on success in terms of box office revenue anyway."
   ]
  },
  {
   "cell_type": "code",
   "execution_count": 31,
   "id": "4e70eb5c",
   "metadata": {},
   "outputs": [
    {
     "data": {
      "text/html": [
       "<div>\n",
       "<style scoped>\n",
       "    .dataframe tbody tr th:only-of-type {\n",
       "        vertical-align: middle;\n",
       "    }\n",
       "\n",
       "    .dataframe tbody tr th {\n",
       "        vertical-align: top;\n",
       "    }\n",
       "\n",
       "    .dataframe thead th {\n",
       "        text-align: right;\n",
       "    }\n",
       "</style>\n",
       "<table border=\"1\" class=\"dataframe\">\n",
       "  <thead>\n",
       "    <tr style=\"text-align: right;\">\n",
       "      <th></th>\n",
       "      <th>Wikipedia movie ID</th>\n",
       "      <th>Freebase movie ID</th>\n",
       "      <th>Movie name</th>\n",
       "      <th>Movie release date</th>\n",
       "      <th>Movie box office revenue</th>\n",
       "      <th>Movie runtime</th>\n",
       "      <th>Movie languages</th>\n",
       "      <th>Movie countries</th>\n",
       "      <th>Movie genres</th>\n",
       "      <th>Movie year</th>\n",
       "      <th>abnormal</th>\n",
       "    </tr>\n",
       "  </thead>\n",
       "  <tbody>\n",
       "    <tr>\n",
       "      <th>46808</th>\n",
       "      <td>17906864</td>\n",
       "      <td>/m/047p8zv</td>\n",
       "      <td>Moonnam Mura</td>\n",
       "      <td>1988</td>\n",
       "      <td>NaN</td>\n",
       "      <td>NaN</td>\n",
       "      <td>{'/m/0999q': 'Malayalam Language'}</td>\n",
       "      <td>{'/m/0999q': 'Malayalam Language'}</td>\n",
       "      <td>{'/m/01jfsb': 'Thriller', '/m/02kdv5l': 'Actio...</td>\n",
       "      <td>1988.0</td>\n",
       "      <td>True</td>\n",
       "    </tr>\n",
       "    <tr>\n",
       "      <th>67202</th>\n",
       "      <td>28964840</td>\n",
       "      <td>/m/0dgnjfj</td>\n",
       "      <td>Inakkilly</td>\n",
       "      <td>1984</td>\n",
       "      <td>NaN</td>\n",
       "      <td>NaN</td>\n",
       "      <td>{}</td>\n",
       "      <td>{'/m/0999q': 'Malayalam Language', '/m/03rk0':...</td>\n",
       "      <td>{'/m/068d7h': 'Romantic drama'}</td>\n",
       "      <td>1984.0</td>\n",
       "      <td>True</td>\n",
       "    </tr>\n",
       "  </tbody>\n",
       "</table>\n",
       "</div>"
      ],
      "text/plain": [
       "       Wikipedia movie ID Freebase movie ID    Movie name Movie release date  \\\n",
       "46808            17906864        /m/047p8zv  Moonnam Mura               1988   \n",
       "67202            28964840        /m/0dgnjfj     Inakkilly               1984   \n",
       "\n",
       "       Movie box office revenue  Movie runtime  \\\n",
       "46808                       NaN            NaN   \n",
       "67202                       NaN            NaN   \n",
       "\n",
       "                          Movie languages  \\\n",
       "46808  {'/m/0999q': 'Malayalam Language'}   \n",
       "67202                                  {}   \n",
       "\n",
       "                                         Movie countries  \\\n",
       "46808                 {'/m/0999q': 'Malayalam Language'}   \n",
       "67202  {'/m/0999q': 'Malayalam Language', '/m/03rk0':...   \n",
       "\n",
       "                                            Movie genres  Movie year  abnormal  \n",
       "46808  {'/m/01jfsb': 'Thriller', '/m/02kdv5l': 'Actio...      1988.0      True  \n",
       "67202                    {'/m/068d7h': 'Romantic drama'}      1984.0      True  "
      ]
     },
     "execution_count": 31,
     "metadata": {},
     "output_type": "execute_result"
    }
   ],
   "source": [
    "temp = movies.copy()\n",
    "temp['abnormal'] = movies['Movie countries'].apply(lambda d: True if 'Malayalam Language' in d.values() else False)\n",
    "temp[temp['abnormal']==True]"
   ]
  },
  {
   "cell_type": "markdown",
   "id": "8fa9f4ee",
   "metadata": {},
   "source": [
    "#### Movie genres <a class=\"anchor\" id=\"movie_genre\"></a>"
   ]
  },
  {
   "cell_type": "code",
   "execution_count": 32,
   "id": "9df50a4e",
   "metadata": {},
   "outputs": [],
   "source": [
    "genres_occurrences = get_values_occurrences(movies, 'Movie genres')"
   ]
  },
  {
   "cell_type": "code",
   "execution_count": 33,
   "id": "12c3d3aa",
   "metadata": {},
   "outputs": [
    {
     "data": {
      "text/plain": [
       "[('drama', 33998),\n",
       " ('comedy', 16341),\n",
       " ('romance film', 10233),\n",
       " ('black-and-white', 9034),\n",
       " ('action', 8797)]"
      ]
     },
     "execution_count": 33,
     "metadata": {},
     "output_type": "execute_result"
    }
   ],
   "source": [
    "genres_sorted = sorted(genres_occurrences.items(), key=lambda x:x[1], reverse=True)\n",
    "genres_sorted[0:5]"
   ]
  },
  {
   "cell_type": "code",
   "execution_count": 34,
   "id": "97d7eb64",
   "metadata": {},
   "outputs": [
    {
     "data": {
      "text/plain": [
       "[('c-movie', 1),\n",
       " ('linguistics', 1),\n",
       " ('comdedy', 1),\n",
       " ('silhouette animation', 1),\n",
       " ('breakdance', 1)]"
      ]
     },
     "execution_count": 34,
     "metadata": {},
     "output_type": "execute_result"
    }
   ],
   "source": [
    "genres_sorted = sorted(genres_occurrences.items(), key=lambda x:x[1], reverse=False)\n",
    "genres_sorted[0:5]"
   ]
  },
  {
   "cell_type": "markdown",
   "id": "36aa29db",
   "metadata": {},
   "source": [
    "The most common genres are Drama, Comedy, Romance. This makes sense. The least common movies don't look like mistakes or typos except for \"Comdedy\", which should obviously be \"comedy\". However, we noticed after some testing (see how in the code below) that for the (only) movie with \"Comdedy\" as genre, \"Comedy\" is also listed. So there is no point is correcting this. Likewise, we found movies with \"Political Documetary\" as genre, but there are no movies with \"Political Documentary\" (which would be the correct spelling). So again, no point in correcting this, it is consistent."
   ]
  },
  {
   "cell_type": "code",
   "execution_count": 35,
   "id": "e91f42d2",
   "metadata": {},
   "outputs": [
    {
     "name": "stdout",
     "output_type": "stream",
     "text": [
      "{'Romantic comedy', 'Comedy', 'World cinema', 'Indie', 'Comdedy', 'Romance Film'}\n"
     ]
    }
   ],
   "source": [
    "for genres in movies['Movie genres'].map(lambda dictionary : (set(dictionary.values()))):\n",
    "    if 'Comdedy' in genres:\n",
    "        print(genres)"
   ]
  },
  {
   "cell_type": "code",
   "execution_count": 36,
   "id": "f96de209",
   "metadata": {},
   "outputs": [
    {
     "name": "stdout",
     "output_type": "stream",
     "text": [
      "Only 151 over 363 genres appear more than 100 times\n"
     ]
    },
    {
     "data": {
      "image/png": "[encoded data removed]",
      "text/plain": [
       "<Figure size 640x480 with 1 Axes>"
      ]
     },
     "metadata": {},
     "output_type": "display_data"
    }
   ],
   "source": [
    "genres = {}\n",
    "\n",
    "for d in movies['Movie genres']:\n",
    "    for k, v in d.items():\n",
    "        genres[v] = genres.get(v, 0)+1\n",
    "            \n",
    "count_threshold = 100\n",
    "count = len(dict(filter(lambda pair: pair[1]>count_threshold, genres.items())))\n",
    "\n",
    "print(f\"Only {count} over {len(genres)} genres appear more than {count_threshold} times\")\n",
    "plt.plot(genres.values())\n",
    "plt.ylabel('Number of occurences')\n",
    "plt.xlabel('Genre number')\n",
    "plt.title('Number of tiles each genre appears')\n",
    "plt.show()"
   ]
  },
  {
   "cell_type": "markdown",
   "id": "6e80342f",
   "metadata": {},
   "source": [
    "We see that a lot of genres are not often used. This if for example the case of the \"Comedy Thriller\" genre, that appears 91 times. We see that in fact it does not make much sense that \"Comedy\" and \"Thriller\" both appear together. We would thus like to cut any such genre into subgenres : \"Comedy Thriller\" becomes [\"Comedy\", \"Thriller\"]. To do so, we split the strings to obtain the subgenres. We then decide manually what to keep and what to leave, and write it into the file `\"genres_dict.txt\"`."
   ]
  },
  {
   "cell_type": "code",
   "execution_count": 37,
   "id": "37db12a7",
   "metadata": {},
   "outputs": [
    {
     "name": "stdout",
     "output_type": "stream",
     "text": [
      "\"Comedy Thriller\" is now mapped to ['Comedy', 'Thriller']\n"
     ]
    }
   ],
   "source": [
    "f = open('./Data/genres_dict.txt')\n",
    "genres_dict = json.load(f)\n",
    "f.close()\n",
    "print(f'\"Comedy Thriller\" is now mapped to {genres_dict[\"Comedy Thriller\"]}')"
   ]
  },
  {
   "cell_type": "markdown",
   "id": "7e3a3822",
   "metadata": {},
   "source": [
    "Now, let's check how many genres we have:"
   ]
  },
  {
   "cell_type": "code",
   "execution_count": 38,
   "id": "783d4bb0",
   "metadata": {},
   "outputs": [
    {
     "name": "stdout",
     "output_type": "stream",
     "text": [
      "We have 99 new genres.\n"
     ]
    }
   ],
   "source": [
    "new_genres = {}\n",
    "for k, v in genres_dict.items():\n",
    "    if isinstance(v, list) :\n",
    "        for s in v :\n",
    "            new_genres[s] = new_genres.get(s, 0)+1\n",
    "    else : \n",
    "        new_genres[v] = new_genres.get(v, 0)+1\n",
    "                \n",
    "print(f\"We have {len(new_genres)} new genres.\")"
   ]
  },
  {
   "cell_type": "code",
   "execution_count": 39,
   "id": "97688b2c",
   "metadata": {},
   "outputs": [
    {
     "data": {
      "text/html": [
       "<div>\n",
       "<style scoped>\n",
       "    .dataframe tbody tr th:only-of-type {\n",
       "        vertical-align: middle;\n",
       "    }\n",
       "\n",
       "    .dataframe tbody tr th {\n",
       "        vertical-align: top;\n",
       "    }\n",
       "\n",
       "    .dataframe thead th {\n",
       "        text-align: right;\n",
       "    }\n",
       "</style>\n",
       "<table border=\"1\" class=\"dataframe\">\n",
       "  <thead>\n",
       "    <tr style=\"text-align: right;\">\n",
       "      <th></th>\n",
       "      <th>Wikipedia movie ID</th>\n",
       "      <th>Freebase movie ID</th>\n",
       "      <th>Movie name</th>\n",
       "      <th>Movie release date</th>\n",
       "      <th>Movie box office revenue</th>\n",
       "      <th>Movie runtime</th>\n",
       "      <th>Movie languages</th>\n",
       "      <th>Movie countries</th>\n",
       "      <th>Movie genres</th>\n",
       "      <th>Movie year</th>\n",
       "      <th>Genres</th>\n",
       "    </tr>\n",
       "  </thead>\n",
       "  <tbody>\n",
       "    <tr>\n",
       "      <th>0</th>\n",
       "      <td>975900</td>\n",
       "      <td>/m/03vyhn</td>\n",
       "      <td>Ghosts of Mars</td>\n",
       "      <td>2001-08-24</td>\n",
       "      <td>14010832.0</td>\n",
       "      <td>98.0</td>\n",
       "      <td>{'/m/02h40lc': 'English Language'}</td>\n",
       "      <td>{'/m/09c7w0': 'United States of America'}</td>\n",
       "      <td>{'/m/01jfsb': 'Thriller', '/m/06n90': 'Science...</td>\n",
       "      <td>2001.0</td>\n",
       "      <td>[Science Fiction, Thriller, Western, Horror, A...</td>\n",
       "    </tr>\n",
       "    <tr>\n",
       "      <th>1</th>\n",
       "      <td>3196793</td>\n",
       "      <td>/m/08yl5d</td>\n",
       "      <td>Getting Away with Murder: The JonBenét Ramsey ...</td>\n",
       "      <td>2000-02-16</td>\n",
       "      <td>NaN</td>\n",
       "      <td>95.0</td>\n",
       "      <td>{'/m/02h40lc': 'English Language'}</td>\n",
       "      <td>{'/m/09c7w0': 'United States of America'}</td>\n",
       "      <td>{'/m/02n4kr': 'Mystery', '/m/03bxz7': 'Biograp...</td>\n",
       "      <td>2000.0</td>\n",
       "      <td>[Crime, Mystery, Drama, Biopic]</td>\n",
       "    </tr>\n",
       "    <tr>\n",
       "      <th>2</th>\n",
       "      <td>28463795</td>\n",
       "      <td>/m/0crgdbh</td>\n",
       "      <td>Brun bitter</td>\n",
       "      <td>1988</td>\n",
       "      <td>NaN</td>\n",
       "      <td>83.0</td>\n",
       "      <td>{'/m/05f_3': 'Norwegian Language'}</td>\n",
       "      <td>{'/m/05b4w': 'Norway'}</td>\n",
       "      <td>{'/m/0lsxr': 'Crime Fiction', '/m/07s9rl0': 'D...</td>\n",
       "      <td>1988.0</td>\n",
       "      <td>[Crime, Drama]</td>\n",
       "    </tr>\n",
       "  </tbody>\n",
       "</table>\n",
       "</div>"
      ],
      "text/plain": [
       "   Wikipedia movie ID Freebase movie ID  \\\n",
       "0              975900         /m/03vyhn   \n",
       "1             3196793         /m/08yl5d   \n",
       "2            28463795        /m/0crgdbh   \n",
       "\n",
       "                                          Movie name Movie release date  \\\n",
       "0                                     Ghosts of Mars         2001-08-24   \n",
       "1  Getting Away with Murder: The JonBenét Ramsey ...         2000-02-16   \n",
       "2                                        Brun bitter               1988   \n",
       "\n",
       "   Movie box office revenue  Movie runtime  \\\n",
       "0                14010832.0           98.0   \n",
       "1                       NaN           95.0   \n",
       "2                       NaN           83.0   \n",
       "\n",
       "                      Movie languages  \\\n",
       "0  {'/m/02h40lc': 'English Language'}   \n",
       "1  {'/m/02h40lc': 'English Language'}   \n",
       "2  {'/m/05f_3': 'Norwegian Language'}   \n",
       "\n",
       "                             Movie countries  \\\n",
       "0  {'/m/09c7w0': 'United States of America'}   \n",
       "1  {'/m/09c7w0': 'United States of America'}   \n",
       "2                     {'/m/05b4w': 'Norway'}   \n",
       "\n",
       "                                        Movie genres  Movie year  \\\n",
       "0  {'/m/01jfsb': 'Thriller', '/m/06n90': 'Science...      2001.0   \n",
       "1  {'/m/02n4kr': 'Mystery', '/m/03bxz7': 'Biograp...      2000.0   \n",
       "2  {'/m/0lsxr': 'Crime Fiction', '/m/07s9rl0': 'D...      1988.0   \n",
       "\n",
       "                                              Genres  \n",
       "0  [Science Fiction, Thriller, Western, Horror, A...  \n",
       "1                    [Crime, Mystery, Drama, Biopic]  \n",
       "2                                     [Crime, Drama]  "
      ]
     },
     "execution_count": 39,
     "metadata": {},
     "output_type": "execute_result"
    }
   ],
   "source": [
    "#we get a list of unique genres (by converting a set to the list) contained in a given dictionary by using \n",
    "#the previously defined \"genres_dict\" which maps a genre to a list of genres\n",
    "def get_genres_list(dictionary):\n",
    "    genres_set = set()\n",
    "    for genre in dictionary.values():\n",
    "        new_genre = genres_dict[genre]\n",
    "        if type(new_genre)==list:\n",
    "            for split in new_genre:\n",
    "                genres_set.add(split)\n",
    "        else:\n",
    "            genres_set.add(new_genre)\n",
    "    return list(genres_set)\n",
    "\n",
    "movies['Genres'] = movies['Movie genres'].apply(lambda dictionary : get_genres_list(dictionary))\n",
    "movies.head(3)"
   ]
  },
  {
   "cell_type": "markdown",
   "id": "0c4266a4",
   "metadata": {},
   "source": [
    "### Preprocessing the characters dataframe <a class=\"anchor\" id=\"char_preprocessing\"></a>\n"
   ]
  },
  {
   "cell_type": "code",
   "execution_count": 40,
   "id": "b25ef13e",
   "metadata": {},
   "outputs": [
    {
     "data": {
      "text/html": [
       "<div>\n",
       "<style scoped>\n",
       "    .dataframe tbody tr th:only-of-type {\n",
       "        vertical-align: middle;\n",
       "    }\n",
       "\n",
       "    .dataframe tbody tr th {\n",
       "        vertical-align: top;\n",
       "    }\n",
       "\n",
       "    .dataframe thead th {\n",
       "        text-align: right;\n",
       "    }\n",
       "</style>\n",
       "<table border=\"1\" class=\"dataframe\">\n",
       "  <thead>\n",
       "    <tr style=\"text-align: right;\">\n",
       "      <th></th>\n",
       "      <th>Wikipedia movie ID</th>\n",
       "      <th>Freebase movie ID</th>\n",
       "      <th>Movie release date</th>\n",
       "      <th>Character name</th>\n",
       "      <th>Actor date of birth</th>\n",
       "      <th>Actor gender</th>\n",
       "      <th>Actor height (in meters)</th>\n",
       "      <th>Actor ethnicity (Freebase ID)</th>\n",
       "      <th>Actor name</th>\n",
       "      <th>Actor age at movie release</th>\n",
       "      <th>Freebase character/actor map ID</th>\n",
       "      <th>Freebase character ID</th>\n",
       "      <th>Freebase actor ID</th>\n",
       "    </tr>\n",
       "  </thead>\n",
       "  <tbody>\n",
       "    <tr>\n",
       "      <th>403195</th>\n",
       "      <td>12308598</td>\n",
       "      <td>/m/02vztbf</td>\n",
       "      <td>2009-04-02</td>\n",
       "      <td>NaN</td>\n",
       "      <td>1965-01-28</td>\n",
       "      <td>M</td>\n",
       "      <td>NaN</td>\n",
       "      <td>NaN</td>\n",
       "      <td>Kenya Sawada</td>\n",
       "      <td>44.0</td>\n",
       "      <td>/m/0cgmys1</td>\n",
       "      <td>NaN</td>\n",
       "      <td>/m/09vw10f</td>\n",
       "    </tr>\n",
       "    <tr>\n",
       "      <th>360334</th>\n",
       "      <td>3242846</td>\n",
       "      <td>/m/090s_0</td>\n",
       "      <td>1996</td>\n",
       "      <td>Rajah</td>\n",
       "      <td>1938-03-18</td>\n",
       "      <td>M</td>\n",
       "      <td>1.8</td>\n",
       "      <td>NaN</td>\n",
       "      <td>Shashi Kapoor</td>\n",
       "      <td>57.0</td>\n",
       "      <td>/m/0h2v49p</td>\n",
       "      <td>/m/0h2v49s</td>\n",
       "      <td>/m/01n8_g</td>\n",
       "    </tr>\n",
       "    <tr>\n",
       "      <th>231763</th>\n",
       "      <td>12096671</td>\n",
       "      <td>/m/02vpqrg</td>\n",
       "      <td>1985</td>\n",
       "      <td>NaN</td>\n",
       "      <td>NaN</td>\n",
       "      <td>NaN</td>\n",
       "      <td>NaN</td>\n",
       "      <td>NaN</td>\n",
       "      <td>Nicole Rio</td>\n",
       "      <td>NaN</td>\n",
       "      <td>/m/0gdlhwf</td>\n",
       "      <td>NaN</td>\n",
       "      <td>/m/0gdlhwh</td>\n",
       "    </tr>\n",
       "    <tr>\n",
       "      <th>388049</th>\n",
       "      <td>18991745</td>\n",
       "      <td>/m/04jbxhn</td>\n",
       "      <td>1939-06-28</td>\n",
       "      <td>Mary Smith</td>\n",
       "      <td>1902-03-28</td>\n",
       "      <td>F</td>\n",
       "      <td>NaN</td>\n",
       "      <td>NaN</td>\n",
       "      <td>Flora Robson</td>\n",
       "      <td>37.0</td>\n",
       "      <td>/m/04lrh4c</td>\n",
       "      <td>/m/0n56hk_</td>\n",
       "      <td>/m/0hs7p</td>\n",
       "    </tr>\n",
       "    <tr>\n",
       "      <th>21531</th>\n",
       "      <td>9391085</td>\n",
       "      <td>/m/0286_hv</td>\n",
       "      <td>2008-09-28</td>\n",
       "      <td>Chad Danforth</td>\n",
       "      <td>1989-02-21</td>\n",
       "      <td>M</td>\n",
       "      <td>1.8</td>\n",
       "      <td>/m/0xnvg</td>\n",
       "      <td>Corbin Bleu</td>\n",
       "      <td>19.0</td>\n",
       "      <td>/m/03lyytv</td>\n",
       "      <td>/m/02nwfzy</td>\n",
       "      <td>/m/09nhvw</td>\n",
       "    </tr>\n",
       "  </tbody>\n",
       "</table>\n",
       "</div>"
      ],
      "text/plain": [
       "        Wikipedia movie ID Freebase movie ID Movie release date  \\\n",
       "403195            12308598        /m/02vztbf         2009-04-02   \n",
       "360334             3242846         /m/090s_0               1996   \n",
       "231763            12096671        /m/02vpqrg               1985   \n",
       "388049            18991745        /m/04jbxhn         1939-06-28   \n",
       "21531              9391085        /m/0286_hv         2008-09-28   \n",
       "\n",
       "       Character name Actor date of birth Actor gender  \\\n",
       "403195            NaN          1965-01-28            M   \n",
       "360334          Rajah          1938-03-18            M   \n",
       "231763            NaN                 NaN          NaN   \n",
       "388049     Mary Smith          1902-03-28            F   \n",
       "21531   Chad Danforth          1989-02-21            M   \n",
       "\n",
       "        Actor height (in meters) Actor ethnicity (Freebase ID)     Actor name  \\\n",
       "403195                       NaN                           NaN   Kenya Sawada   \n",
       "360334                       1.8                           NaN  Shashi Kapoor   \n",
       "231763                       NaN                           NaN     Nicole Rio   \n",
       "388049                       NaN                           NaN   Flora Robson   \n",
       "21531                        1.8                      /m/0xnvg    Corbin Bleu   \n",
       "\n",
       "        Actor age at movie release Freebase character/actor map ID  \\\n",
       "403195                        44.0                      /m/0cgmys1   \n",
       "360334                        57.0                      /m/0h2v49p   \n",
       "231763                         NaN                      /m/0gdlhwf   \n",
       "388049                        37.0                      /m/04lrh4c   \n",
       "21531                         19.0                      /m/03lyytv   \n",
       "\n",
       "       Freebase character ID Freebase actor ID  \n",
       "403195                   NaN        /m/09vw10f  \n",
       "360334            /m/0h2v49s         /m/01n8_g  \n",
       "231763                   NaN        /m/0gdlhwh  \n",
       "388049            /m/0n56hk_          /m/0hs7p  \n",
       "21531             /m/02nwfzy         /m/09nhvw  "
      ]
     },
     "execution_count": 40,
     "metadata": {},
     "output_type": "execute_result"
    }
   ],
   "source": [
    "characters.sample(5)"
   ]
  },
  {
   "cell_type": "markdown",
   "id": "d03c12c1",
   "metadata": {},
   "source": [
    "In the characters dataframe, we have the following interpretable columns:\n",
    "- Movie release date\n",
    "- Actor date of birth\n",
    "- Actor gender\n",
    "- Actor height\n",
    "- Actor age at movie release"
   ]
  },
  {
   "cell_type": "markdown",
   "id": "ab95e3a1",
   "metadata": {},
   "source": [
    "#### Movie release date <a class=\"anchor\" id=\"rel_date\"></a>\n"
   ]
  },
  {
   "cell_type": "markdown",
   "id": "8d5b4b22",
   "metadata": {},
   "source": [
    "This is roughly the same as for the movies dataframe, so let's preprocess this in the same way."
   ]
  },
  {
   "cell_type": "code",
   "execution_count": 41,
   "id": "14713080",
   "metadata": {},
   "outputs": [],
   "source": [
    "characters['Movie year']=characters['Movie release date'].apply(lambda d: get_year(d) if type(d)==str else d)"
   ]
  },
  {
   "cell_type": "code",
   "execution_count": 42,
   "id": "45846d4d",
   "metadata": {},
   "outputs": [
    {
     "data": {
      "image/png": "[encoded data removed]",
      "text/plain": [
       "<Figure size 1400x150 with 1 Axes>"
      ]
     },
     "metadata": {},
     "output_type": "display_data"
    }
   ],
   "source": [
    "plot_boxplot(characters, 'Movie year', 'Release year')"
   ]
  },
  {
   "cell_type": "markdown",
   "id": "05c5350c",
   "metadata": {},
   "source": [
    "We have the same outlier as before, so let's remove it again."
   ]
  },
  {
   "cell_type": "code",
   "execution_count": 43,
   "id": "e022fc19",
   "metadata": {},
   "outputs": [],
   "source": [
    "characters = characters[(characters['Movie year']>1010) | (characters['Movie year'].isna()==1)]"
   ]
  },
  {
   "cell_type": "code",
   "execution_count": 44,
   "id": "d936bb97",
   "metadata": {},
   "outputs": [
    {
     "data": {
      "image/png": "[encoded data removed]",
      "text/plain": [
       "<Figure size 1400x150 with 1 Axes>"
      ]
     },
     "metadata": {},
     "output_type": "display_data"
    }
   ],
   "source": [
    "plot_boxplot(characters, 'Movie year', 'Release year')"
   ]
  },
  {
   "cell_type": "code",
   "execution_count": 45,
   "id": "64c62943",
   "metadata": {},
   "outputs": [
    {
     "data": {
      "text/plain": [
       "count    440659.000000\n",
       "mean       1984.523101\n",
       "std          25.257942\n",
       "min        1888.000000\n",
       "25%        1969.000000\n",
       "50%        1994.000000\n",
       "75%        2005.000000\n",
       "max        2016.000000\n",
       "Name: Movie year, dtype: float64"
      ]
     },
     "execution_count": 45,
     "metadata": {},
     "output_type": "execute_result"
    }
   ],
   "source": [
    "characters['Movie year'].describe()"
   ]
  },
  {
   "cell_type": "markdown",
   "id": "6d06c635",
   "metadata": {},
   "source": [
    "We have a similar distribution as before, but with less actor information before 1910, which makes sense. Note that here also, we are only interested in movies past 1900, so we filter out earlier ones:"
   ]
  },
  {
   "cell_type": "code",
   "execution_count": 46,
   "id": "a9cb9441",
   "metadata": {},
   "outputs": [
    {
     "data": {
      "image/png": "[encoded data removed]",
      "text/plain": [
       "<Figure size 1400x150 with 1 Axes>"
      ]
     },
     "metadata": {},
     "output_type": "display_data"
    }
   ],
   "source": [
    "characters = characters[(characters['Movie year']>1900) | (characters['Movie year'].isna()==1)]\n",
    "plot_boxplot(characters, 'Movie year', 'Release year')"
   ]
  },
  {
   "cell_type": "markdown",
   "id": "5657ec73",
   "metadata": {},
   "source": [
    "#### Actor date of birth <a class=\"anchor\" id=\"birth\"></a>\n",
    "\n",
    "\n"
   ]
  },
  {
   "cell_type": "code",
   "execution_count": 47,
   "id": "697053c1",
   "metadata": {},
   "outputs": [],
   "source": [
    "characters['Date of birth']=characters['Actor date of birth'].apply(lambda d: get_year(d) if type(d)==str else d)"
   ]
  },
  {
   "cell_type": "code",
   "execution_count": 48,
   "id": "84f82202",
   "metadata": {},
   "outputs": [
    {
     "data": {
      "image/png": "[encoded data removed]",
      "text/plain": [
       "<Figure size 1400x150 with 1 Axes>"
      ]
     },
     "metadata": {},
     "output_type": "display_data"
    }
   ],
   "source": [
    "plot_boxplot(characters, 'Date of birth', 'Actors date of birth')"
   ]
  },
  {
   "cell_type": "markdown",
   "id": "d330fcd2",
   "metadata": {},
   "source": [
    "After having made sure that all birth years below 1800 are a mistake, we filter them out. Likewise, we filter out all birth dates above 2016, since the database ends with movie releases in 2016. We also want to remove all actors who were born after the movie release, as that does not make sense."
   ]
  },
  {
   "cell_type": "code",
   "execution_count": 49,
   "id": "c421dc1f",
   "metadata": {},
   "outputs": [
    {
     "data": {
      "image/png": "[encoded data removed]",
      "text/plain": [
       "<Figure size 1400x150 with 1 Axes>"
      ]
     },
     "metadata": {},
     "output_type": "display_data"
    }
   ],
   "source": [
    "birth_date_in_range = (characters['Date of birth']>=1800) & (characters['Date of birth']<=2016)\n",
    "characters = characters[birth_date_in_range | (characters['Date of birth'].isna()==1)]\n",
    "plot_boxplot(characters, 'Date of birth', 'Actors date of birth')"
   ]
  },
  {
   "cell_type": "code",
   "execution_count": 50,
   "id": "67124bb9",
   "metadata": {},
   "outputs": [],
   "source": [
    "characters['Born before movie'] = characters.apply(lambda row:row['Movie year'] >= row['Date of birth'], axis=1)\n",
    "characters = characters[(characters['Born before movie']==1) | (characters['Date of birth'].isna()==1)]\n",
    "characters.drop(columns=\"Born before movie\", inplace=True)"
   ]
  },
  {
   "cell_type": "code",
   "execution_count": 51,
   "id": "38c022ad",
   "metadata": {},
   "outputs": [
    {
     "data": {
      "text/plain": [
       "count    334951.000000\n",
       "mean       1943.082143\n",
       "std          28.940422\n",
       "min        1804.000000\n",
       "25%        1923.000000\n",
       "50%        1948.000000\n",
       "75%        1966.000000\n",
       "max        2008.000000\n",
       "Name: Date of birth, dtype: float64"
      ]
     },
     "execution_count": 51,
     "metadata": {},
     "output_type": "execute_result"
    }
   ],
   "source": [
    "characters['Date of birth'].describe()"
   ]
  },
  {
   "cell_type": "markdown",
   "id": "0e3414cb",
   "metadata": {},
   "source": [
    "Now, the distribution of birth years makes a lot more sense, with mean 1943 and 50% of birth dates between 1923 and 1966. However, let's have a look at how much data is missing."
   ]
  },
  {
   "cell_type": "code",
   "execution_count": 52,
   "id": "1b3e08a6",
   "metadata": {},
   "outputs": [
    {
     "name": "stdout",
     "output_type": "stream",
     "text": [
      "There is 24.06% of data missing.\n"
     ]
    },
    {
     "data": {
      "image/png": "[encoded data removed]",
      "text/plain": [
       "<Figure size 640x480 with 1 Axes>"
      ]
     },
     "metadata": {},
     "output_type": "display_data"
    }
   ],
   "source": [
    "print(f\"There is {get_missing_values_percentage(characters, 'Date of birth'):.2f}% of data missing.\")\n",
    "plot_missing_values(characters, 'Date of birth')"
   ]
  },
  {
   "cell_type": "markdown",
   "id": "265c0a3f",
   "metadata": {},
   "source": [
    "We have a lot of missing data, but especially for the earlier years (up until 1910s). Afterwards, there's around 20% of birth years data missing every year."
   ]
  },
  {
   "cell_type": "markdown",
   "id": "33c8418e",
   "metadata": {},
   "source": [
    "#### Actor gender <a class=\"anchor\" id=\"char_gender\"></a>\n"
   ]
  },
  {
   "cell_type": "code",
   "execution_count": 53,
   "id": "c985cbc7",
   "metadata": {},
   "outputs": [
    {
     "data": {
      "text/plain": [
       "array(['F', 'M', nan], dtype=object)"
      ]
     },
     "execution_count": 53,
     "metadata": {},
     "output_type": "execute_result"
    }
   ],
   "source": [
    "characters['Actor gender'].unique()"
   ]
  },
  {
   "cell_type": "markdown",
   "id": "f2a21d77",
   "metadata": {},
   "source": [
    "Since there are no incorrect values or outliers, let's look at how much data is missing:"
   ]
  },
  {
   "cell_type": "code",
   "execution_count": 54,
   "id": "71f8db02",
   "metadata": {},
   "outputs": [
    {
     "name": "stdout",
     "output_type": "stream",
     "text": [
      "There is 10.33% of data missing.\n"
     ]
    },
    {
     "data": {
      "image/png": "[encoded data removed]",
      "text/plain": [
       "<Figure size 640x480 with 1 Axes>"
      ]
     },
     "metadata": {},
     "output_type": "display_data"
    }
   ],
   "source": [
    "print(f\"There is {get_missing_values_percentage(characters, 'Actor gender'):.2f}% of data missing.\")\n",
    "plot_missing_values(characters, 'Actor gender')"
   ]
  },
  {
   "cell_type": "markdown",
   "id": "07396f0b",
   "metadata": {},
   "source": [
    "Compared to other features, it seems we have more of the data!"
   ]
  },
  {
   "cell_type": "markdown",
   "id": "0d8cd12e",
   "metadata": {},
   "source": [
    "#### Actor height <a class=\"anchor\" id=\"height\"></a>\n"
   ]
  },
  {
   "cell_type": "code",
   "execution_count": 55,
   "id": "33883047",
   "metadata": {},
   "outputs": [
    {
     "data": {
      "text/plain": [
       "count    151095.000000\n",
       "mean          1.789108\n",
       "std           4.409850\n",
       "min           0.610000\n",
       "25%           1.680000\n",
       "50%           1.750000\n",
       "75%           1.830000\n",
       "max         510.000000\n",
       "Name: Actor height (in meters), dtype: float64"
      ]
     },
     "execution_count": 55,
     "metadata": {},
     "output_type": "execute_result"
    }
   ],
   "source": [
    "characters['Actor height (in meters)'].describe()"
   ]
  },
  {
   "cell_type": "code",
   "execution_count": 56,
   "id": "4708442e",
   "metadata": {},
   "outputs": [
    {
     "data": {
      "image/png": "[encoded data removed]",
      "text/plain": [
       "<Figure size 1400x150 with 1 Axes>"
      ]
     },
     "metadata": {},
     "output_type": "display_data"
    }
   ],
   "source": [
    "plot_boxplot(characters, 'Actor height (in meters)', 'Actors heights')"
   ]
  },
  {
   "cell_type": "markdown",
   "id": "552a4e5f",
   "metadata": {},
   "source": [
    "There are two huge outliers, one aroung 180 and one around 510. Let's filter them out."
   ]
  },
  {
   "cell_type": "code",
   "execution_count": 57,
   "id": "a104d249",
   "metadata": {},
   "outputs": [],
   "source": [
    "heights = characters['Actor height (in meters)']\n",
    "characters = characters[(heights < 100) | (heights.isna()==1)]"
   ]
  },
  {
   "cell_type": "code",
   "execution_count": 58,
   "id": "35f6bb13",
   "metadata": {},
   "outputs": [
    {
     "data": {
      "image/png": "[encoded data removed]",
      "text/plain": [
       "<Figure size 1400x150 with 1 Axes>"
      ]
     },
     "metadata": {},
     "output_type": "display_data"
    }
   ],
   "source": [
    "plot_boxplot(characters, 'Actor height (in meters)', 'Actors heights')"
   ]
  },
  {
   "cell_type": "markdown",
   "id": "9a753cba",
   "metadata": {},
   "source": [
    "Now, the distribution makes more sense, we don't seem to have outliers anymore."
   ]
  },
  {
   "cell_type": "markdown",
   "id": "594cf182",
   "metadata": {},
   "source": [
    "#### Actor age at movie release <a class=\"anchor\" id=\"age_release\"></a>\n"
   ]
  },
  {
   "cell_type": "code",
   "execution_count": 59,
   "id": "34c04963",
   "metadata": {},
   "outputs": [
    {
     "data": {
      "image/png": "[encoded data removed]",
      "text/plain": [
       "<Figure size 1400x150 with 1 Axes>"
      ]
     },
     "metadata": {},
     "output_type": "display_data"
    }
   ],
   "source": [
    "plot_boxplot(characters, 'Actor age at movie release', 'Actors ages')"
   ]
  },
  {
   "cell_type": "markdown",
   "id": "b57ef13f",
   "metadata": {},
   "source": [
    "Note that a lot of actors had negative ages, but these were already (coincidentally) filtered out when we dealt with the actor date of birth. Otherwise, we could use the following code (which now does not modify the dataframe in any way)."
   ]
  },
  {
   "cell_type": "code",
   "execution_count": 60,
   "id": "38e5fb5a",
   "metadata": {},
   "outputs": [],
   "source": [
    "ages = characters['Actor age at movie release']\n",
    "characters = characters[(ages >= 0) | (ages.isna()==1)]"
   ]
  },
  {
   "cell_type": "code",
   "execution_count": 61,
   "id": "afc032ab",
   "metadata": {},
   "outputs": [
    {
     "data": {
      "text/plain": [
       "count    292160.000000\n",
       "mean         37.891761\n",
       "std          14.085582\n",
       "min           0.000000\n",
       "25%          28.000000\n",
       "50%          36.000000\n",
       "75%          47.000000\n",
       "max         103.000000\n",
       "Name: Actor age at movie release, dtype: float64"
      ]
     },
     "execution_count": 61,
     "metadata": {},
     "output_type": "execute_result"
    }
   ],
   "source": [
    "characters['Actor age at movie release'].describe()"
   ]
  },
  {
   "cell_type": "markdown",
   "id": "d1ddb2bb",
   "metadata": {},
   "source": [
    "Now, the ages are more logically distributed, mostly between 28 and 47. Let's check how much data is missing:"
   ]
  },
  {
   "cell_type": "code",
   "execution_count": 62,
   "id": "75b497e7",
   "metadata": {},
   "outputs": [
    {
     "name": "stdout",
     "output_type": "stream",
     "text": [
      "There is 33.76% of data missing.\n"
     ]
    },
    {
     "data": {
      "image/png": "[encoded data removed]",
      "text/plain": [
       "<Figure size 640x480 with 1 Axes>"
      ]
     },
     "metadata": {},
     "output_type": "display_data"
    }
   ],
   "source": [
    "print(f\"There is {get_missing_values_percentage(characters, 'Actor age at movie release'):.2f}% of data missing.\")\n",
    "plot_missing_values(characters, 'Actor age at movie release')"
   ]
  },
  {
   "cell_type": "markdown",
   "id": "1f80755d",
   "metadata": {},
   "source": [
    "Starting around 1920, we have decreasing percentage of missing data for the actor ages, which before about 30% starting 1950. Note that before 1920, there is a lot of missing data and/or a lot of variance in the percentage of missing data for any columns we're looked at so far. This makes sense because there were less movies back then, and the values were less systematically stored than nowadays."
   ]
  },
  {
   "cell_type": "markdown",
   "id": "47b029bf",
   "metadata": {},
   "source": [
    "#### Actor persona  <a class=\"anchor\" id=\"persona\"></a>\n"
   ]
  },
  {
   "cell_type": "markdown",
   "id": "f9c423b2",
   "metadata": {},
   "source": [
    "We decided to base our analysis on the results of the LDA paper $^{[1]}$. The authors extracted some persona types from the summaries of the movies. We will use these persona types to analyze the characters. Running the code results in new dataframes, containing information that we can exploit. \n",
    "Notably, the file `lda.log.tsv` contains notably the characters for each movie, with their persona types corresponding to the maximum of the vector of probilities of persona types for each character. This vector of persona types is contained in the column *Estimated Trope* below. We will however only use the *Persona Type* and assign it to each character in our character dataframe.\n",
    "\n",
    "Another important information is the fact that not all results of the code are relevant. Indeed, some of the row contains not characters but places (e.g. Hogwarts) or general names (e.g. they, the trap, etc.)\n",
    "We can thus filter these rows by removing them. We then add these persona types to our characters dataframe by merging the dataframe and adding the types to existing characters in our original data. In order to avoid confusion on identical character names (i.e. John Smith is a common name that could be present in different movies), the merging is done on the character name and the movie ID.\n",
    "\n",
    "Note that the original file was too big to be put on git. It contains the following columns: 'Character ID', 'Wikipedia movie ID', 'Movie Title', 'Character name', 'Named as', 'Token occurences', 'Persona Type', 'Estimate Trope', which correspond respectively to the identifiant for the identified character, the identifiant of the movie, the title of the movie, the official name of the character, the name of the character as it appears in the movie, the number of occurences of the character in the movie, the persona type of the character and the vector of probability for the persona of the character.\n",
    "\n",
    "[1]: Bamman, O'Connor and Smith (2013) *Learning Latent Personas of Film Characters* [(ACL)]([http://aclweb.org/anthology/P/P13/P13-1035.pdf])"
   ]
  },
  {
   "cell_type": "code",
   "execution_count": 63,
   "id": "b47e5108",
   "metadata": {},
   "outputs": [],
   "source": [
    "colnames = ['Character ID', 'Wikipedia movie ID', 'Movie Title', 'Character name', \n",
    "            'Named as', 'Token occurences', 'Persona Type', 'Estimate Trope']\n",
    "lda_log = pd.read_csv(path_lda + 'lda.log.tsv', sep='\\t', names = colnames)\n",
    "\n",
    "# drop all 'ID' columns starting with 'e' as they are not in our characters dataset\n",
    "lda_log = lda_log[~lda_log['Character ID'].str.startswith('e')]\n",
    "\n",
    "characters.set_index(['Wikipedia movie ID', 'Character name'], inplace=True)\n",
    "characters_persona = characters.merge(lda_log[['Wikipedia movie ID', 'Character name','Persona Type']], \n",
    "                                      on=['Wikipedia movie ID', 'Character name'], how='left')"
   ]
  },
  {
   "cell_type": "code",
   "execution_count": 64,
   "id": "85b57eb8",
   "metadata": {},
   "outputs": [
    {
     "data": {
      "text/html": [
       "<div>\n",
       "<style scoped>\n",
       "    .dataframe tbody tr th:only-of-type {\n",
       "        vertical-align: middle;\n",
       "    }\n",
       "\n",
       "    .dataframe tbody tr th {\n",
       "        vertical-align: top;\n",
       "    }\n",
       "\n",
       "    .dataframe thead th {\n",
       "        text-align: right;\n",
       "    }\n",
       "</style>\n",
       "<table border=\"1\" class=\"dataframe\">\n",
       "  <thead>\n",
       "    <tr style=\"text-align: right;\">\n",
       "      <th></th>\n",
       "      <th>Wikipedia movie ID</th>\n",
       "      <th>Character name</th>\n",
       "      <th>Freebase movie ID</th>\n",
       "      <th>Movie release date</th>\n",
       "      <th>Actor date of birth</th>\n",
       "      <th>Actor gender</th>\n",
       "      <th>Actor height (in meters)</th>\n",
       "      <th>Actor ethnicity (Freebase ID)</th>\n",
       "      <th>Actor name</th>\n",
       "      <th>Actor age at movie release</th>\n",
       "      <th>Freebase character/actor map ID</th>\n",
       "      <th>Freebase character ID</th>\n",
       "      <th>Freebase actor ID</th>\n",
       "      <th>Movie year</th>\n",
       "      <th>Date of birth</th>\n",
       "      <th>Persona Type</th>\n",
       "    </tr>\n",
       "  </thead>\n",
       "  <tbody>\n",
       "    <tr>\n",
       "      <th>0</th>\n",
       "      <td>975900</td>\n",
       "      <td>Akooshay</td>\n",
       "      <td>/m/03vyhn</td>\n",
       "      <td>2001-08-24</td>\n",
       "      <td>1958-08-26</td>\n",
       "      <td>F</td>\n",
       "      <td>1.62</td>\n",
       "      <td>NaN</td>\n",
       "      <td>Wanda De Jesus</td>\n",
       "      <td>42.0</td>\n",
       "      <td>/m/0bgchxw</td>\n",
       "      <td>/m/0bgcj3x</td>\n",
       "      <td>/m/03wcfv7</td>\n",
       "      <td>2001.0</td>\n",
       "      <td>1958.0</td>\n",
       "      <td>NaN</td>\n",
       "    </tr>\n",
       "    <tr>\n",
       "      <th>1</th>\n",
       "      <td>975900</td>\n",
       "      <td>Lieutenant Melanie Ballard</td>\n",
       "      <td>/m/03vyhn</td>\n",
       "      <td>2001-08-24</td>\n",
       "      <td>1974-08-15</td>\n",
       "      <td>F</td>\n",
       "      <td>1.78</td>\n",
       "      <td>/m/044038p</td>\n",
       "      <td>Natasha Henstridge</td>\n",
       "      <td>27.0</td>\n",
       "      <td>/m/0jys3m</td>\n",
       "      <td>/m/0bgchn4</td>\n",
       "      <td>/m/0346l4</td>\n",
       "      <td>2001.0</td>\n",
       "      <td>1974.0</td>\n",
       "      <td>35.0</td>\n",
       "    </tr>\n",
       "  </tbody>\n",
       "</table>\n",
       "</div>"
      ],
      "text/plain": [
       "   Wikipedia movie ID              Character name Freebase movie ID  \\\n",
       "0              975900                    Akooshay         /m/03vyhn   \n",
       "1              975900  Lieutenant Melanie Ballard         /m/03vyhn   \n",
       "\n",
       "  Movie release date Actor date of birth Actor gender  \\\n",
       "0         2001-08-24          1958-08-26            F   \n",
       "1         2001-08-24          1974-08-15            F   \n",
       "\n",
       "   Actor height (in meters) Actor ethnicity (Freebase ID)          Actor name  \\\n",
       "0                      1.62                           NaN      Wanda De Jesus   \n",
       "1                      1.78                    /m/044038p  Natasha Henstridge   \n",
       "\n",
       "   Actor age at movie release Freebase character/actor map ID  \\\n",
       "0                        42.0                      /m/0bgchxw   \n",
       "1                        27.0                       /m/0jys3m   \n",
       "\n",
       "  Freebase character ID Freebase actor ID  Movie year  Date of birth  \\\n",
       "0            /m/0bgcj3x        /m/03wcfv7      2001.0         1958.0   \n",
       "1            /m/0bgchn4         /m/0346l4      2001.0         1974.0   \n",
       "\n",
       "   Persona Type  \n",
       "0           NaN  \n",
       "1          35.0  "
      ]
     },
     "execution_count": 64,
     "metadata": {},
     "output_type": "execute_result"
    }
   ],
   "source": [
    "characters_persona.head(2)"
   ]
  },
  {
   "cell_type": "markdown",
   "id": "2d3ca421",
   "metadata": {},
   "source": [
    "> SOPHIE les deux d'en dessous"
   ]
  },
  {
   "cell_type": "code",
   "execution_count": 65,
   "id": "cc4d01e0",
   "metadata": {},
   "outputs": [],
   "source": [
    "lda_log2 = pd.read_csv(path_lda_romance + 'lda.log.tsv', sep='\\t', names = colnames)\n",
    "\n",
    "# drop all 'ID' columns starting with 'e' as they are not in our characters dataset\n",
    "lda_log2 = lda_log2[~lda_log2['Character ID'].str.startswith('e')]\n",
    "\n",
    "# characters.set_index(['Wikipedia movie ID', 'Character name'], inplace=True)\n",
    "characters_persona_romance = characters.merge(lda_log2[['Wikipedia movie ID', 'Character name','Persona Type']], \n",
    "                                      on=['Wikipedia movie ID', 'Character name'], how='left')"
   ]
  },
  {
   "cell_type": "code",
   "execution_count": 66,
   "id": "6d883bc4",
   "metadata": {},
   "outputs": [
    {
     "data": {
      "text/html": [
       "<div>\n",
       "<style scoped>\n",
       "    .dataframe tbody tr th:only-of-type {\n",
       "        vertical-align: middle;\n",
       "    }\n",
       "\n",
       "    .dataframe tbody tr th {\n",
       "        vertical-align: top;\n",
       "    }\n",
       "\n",
       "    .dataframe thead th {\n",
       "        text-align: right;\n",
       "    }\n",
       "</style>\n",
       "<table border=\"1\" class=\"dataframe\">\n",
       "  <thead>\n",
       "    <tr style=\"text-align: right;\">\n",
       "      <th></th>\n",
       "      <th>Wikipedia movie ID</th>\n",
       "      <th>Character name</th>\n",
       "      <th>Freebase movie ID</th>\n",
       "      <th>Movie release date</th>\n",
       "      <th>Actor date of birth</th>\n",
       "      <th>Actor gender</th>\n",
       "      <th>Actor height (in meters)</th>\n",
       "      <th>Actor ethnicity (Freebase ID)</th>\n",
       "      <th>Actor name</th>\n",
       "      <th>Actor age at movie release</th>\n",
       "      <th>Freebase character/actor map ID</th>\n",
       "      <th>Freebase character ID</th>\n",
       "      <th>Freebase actor ID</th>\n",
       "      <th>Movie year</th>\n",
       "      <th>Date of birth</th>\n",
       "      <th>Persona Type</th>\n",
       "    </tr>\n",
       "  </thead>\n",
       "  <tbody>\n",
       "    <tr>\n",
       "      <th>0</th>\n",
       "      <td>975900</td>\n",
       "      <td>Akooshay</td>\n",
       "      <td>/m/03vyhn</td>\n",
       "      <td>2001-08-24</td>\n",
       "      <td>1958-08-26</td>\n",
       "      <td>F</td>\n",
       "      <td>1.62</td>\n",
       "      <td>NaN</td>\n",
       "      <td>Wanda De Jesus</td>\n",
       "      <td>42.0</td>\n",
       "      <td>/m/0bgchxw</td>\n",
       "      <td>/m/0bgcj3x</td>\n",
       "      <td>/m/03wcfv7</td>\n",
       "      <td>2001.0</td>\n",
       "      <td>1958.0</td>\n",
       "      <td>NaN</td>\n",
       "    </tr>\n",
       "    <tr>\n",
       "      <th>1</th>\n",
       "      <td>975900</td>\n",
       "      <td>Lieutenant Melanie Ballard</td>\n",
       "      <td>/m/03vyhn</td>\n",
       "      <td>2001-08-24</td>\n",
       "      <td>1974-08-15</td>\n",
       "      <td>F</td>\n",
       "      <td>1.78</td>\n",
       "      <td>/m/044038p</td>\n",
       "      <td>Natasha Henstridge</td>\n",
       "      <td>27.0</td>\n",
       "      <td>/m/0jys3m</td>\n",
       "      <td>/m/0bgchn4</td>\n",
       "      <td>/m/0346l4</td>\n",
       "      <td>2001.0</td>\n",
       "      <td>1974.0</td>\n",
       "      <td>NaN</td>\n",
       "    </tr>\n",
       "  </tbody>\n",
       "</table>\n",
       "</div>"
      ],
      "text/plain": [
       "   Wikipedia movie ID              Character name Freebase movie ID  \\\n",
       "0              975900                    Akooshay         /m/03vyhn   \n",
       "1              975900  Lieutenant Melanie Ballard         /m/03vyhn   \n",
       "\n",
       "  Movie release date Actor date of birth Actor gender  \\\n",
       "0         2001-08-24          1958-08-26            F   \n",
       "1         2001-08-24          1974-08-15            F   \n",
       "\n",
       "   Actor height (in meters) Actor ethnicity (Freebase ID)          Actor name  \\\n",
       "0                      1.62                           NaN      Wanda De Jesus   \n",
       "1                      1.78                    /m/044038p  Natasha Henstridge   \n",
       "\n",
       "   Actor age at movie release Freebase character/actor map ID  \\\n",
       "0                        42.0                      /m/0bgchxw   \n",
       "1                        27.0                       /m/0jys3m   \n",
       "\n",
       "  Freebase character ID Freebase actor ID  Movie year  Date of birth  \\\n",
       "0            /m/0bgcj3x        /m/03wcfv7      2001.0         1958.0   \n",
       "1            /m/0bgchn4         /m/0346l4      2001.0         1974.0   \n",
       "\n",
       "   Persona Type  \n",
       "0           NaN  \n",
       "1           NaN  "
      ]
     },
     "execution_count": 66,
     "metadata": {},
     "output_type": "execute_result"
    }
   ],
   "source": [
    "characters_persona_romance.head(2)"
   ]
  },
  {
   "cell_type": "markdown",
   "id": "2f2f69e0",
   "metadata": {},
   "source": [
    "### Preprocessing the summaries dataframe <a class=\"anchor\" id=\"summary\"></a>\n"
   ]
  },
  {
   "cell_type": "markdown",
   "id": "cbed8b13",
   "metadata": {},
   "source": [
    "There is not much to preprocess for the summaries dataframe, but we can merge the movies and the summaries and see how much data is missing. We perform a left merge instead of an outer because if we have only the summary but no movie name, release date or anything else, we can't do anything with that data."
   ]
  },
  {
   "cell_type": "code",
   "execution_count": 67,
   "id": "3b0657b9",
   "metadata": {},
   "outputs": [],
   "source": [
    "movies_with_summaries = movies.merge(summaries, how='left')"
   ]
  },
  {
   "cell_type": "code",
   "execution_count": 68,
   "id": "aec67b44",
   "metadata": {},
   "outputs": [
    {
     "name": "stdout",
     "output_type": "stream",
     "text": [
      "There is 48.30% of data missing.\n"
     ]
    },
    {
     "data": {
      "image/png": "[encoded data removed]",
      "text/plain": [
       "<Figure size 640x480 with 1 Axes>"
      ]
     },
     "metadata": {},
     "output_type": "display_data"
    }
   ],
   "source": [
    "print(f\"There is {get_missing_values_percentage(movies_with_summaries, 'Summary'):.2f}% of data missing.\")\n",
    "plot_missing_values(movies_with_summaries, 'Summary')"
   ]
  },
  {
   "cell_type": "markdown",
   "id": "5c27bd5b",
   "metadata": {},
   "source": [
    "This shows us that we don't have a lot of summaries data, only half the movies have a summary."
   ]
  },
  {
   "cell_type": "markdown",
   "id": "139c9b33",
   "metadata": {},
   "source": [
    "### IMDB ratings preprocessing <a class=\"anchor\" id=\"IMDB\"></a>\n"
   ]
  },
  {
   "cell_type": "markdown",
   "id": "3fefd015",
   "metadata": {},
   "source": [
    "#### Loading the ratings <a class=\"anchor\" id=\"load_rate\"></a>\n"
   ]
  },
  {
   "cell_type": "markdown",
   "id": "f3895cfc",
   "metadata": {},
   "source": [
    "First, we need to load the ratings."
   ]
  },
  {
   "cell_type": "code",
   "execution_count": 69,
   "id": "2268885e",
   "metadata": {},
   "outputs": [],
   "source": [
    "query = '''\n",
    "        SELECT DISTINCT ?item ?IMDb_ID ?freebase_id ?title WHERE {\n",
    "            ?item p:P31/ps:P31/wdt:P279* wd:Q11424 .\n",
    "            ?item wdt:P345 ?IMDb_ID .\n",
    "            ?item wdt:P646 ?freebase_id .\n",
    "            ?item wdt:P1476 ?title .\n",
    "            ?item wdt:P577 ?pub_date\n",
    "            FILTER(YEAR(?pub_date) <= 2012).\n",
    "        }\n",
    "'''\n",
    "\n",
    "WIKIDATA_QUERY_URL = 'https://query.wikidata.org/sparql'\n",
    "# This function is based on this webpage : https://query.wikidata.org/\n",
    "# It makes a call to the wiki data query system in order to obtain both the freebase AND imdb ids. \n",
    "# This allows us to use properly the imdb ratings data dump\n",
    "def wikidata_query(query, file):\n",
    "    \n",
    "    request = requests.get(url=WIKIDATA_QUERY_URL, params={'format':'json', 'query':query})\n",
    "    jobj = request.json()\n",
    "    \n",
    "    with open(file, 'w') as file:\n",
    "        json.dump(jobj, file)"
   ]
  },
  {
   "cell_type": "code",
   "execution_count": 70,
   "id": "807c8d25",
   "metadata": {},
   "outputs": [],
   "source": [
    "wikidata_query(query, './Data/Ratings/wikidata.json')"
   ]
  },
  {
   "cell_type": "code",
   "execution_count": 71,
   "id": "a42ad9d0",
   "metadata": {},
   "outputs": [
    {
     "data": {
      "text/html": [
       "<div>\n",
       "<style scoped>\n",
       "    .dataframe tbody tr th:only-of-type {\n",
       "        vertical-align: middle;\n",
       "    }\n",
       "\n",
       "    .dataframe tbody tr th {\n",
       "        vertical-align: top;\n",
       "    }\n",
       "\n",
       "    .dataframe thead th {\n",
       "        text-align: right;\n",
       "    }\n",
       "</style>\n",
       "<table border=\"1\" class=\"dataframe\">\n",
       "  <thead>\n",
       "    <tr style=\"text-align: right;\">\n",
       "      <th></th>\n",
       "      <th>IMDb ID</th>\n",
       "      <th>Freebase movie ID</th>\n",
       "      <th>Wikidata title</th>\n",
       "    </tr>\n",
       "  </thead>\n",
       "  <tbody>\n",
       "    <tr>\n",
       "      <th>0</th>\n",
       "      <td>tt0071866</td>\n",
       "      <td>/m/048hrf</td>\n",
       "      <td>Mr. Majestyk</td>\n",
       "    </tr>\n",
       "    <tr>\n",
       "      <th>1</th>\n",
       "      <td>tt1119191</td>\n",
       "      <td>/m/04ybhxs</td>\n",
       "      <td>The Killing Room</td>\n",
       "    </tr>\n",
       "    <tr>\n",
       "      <th>2</th>\n",
       "      <td>tt0425295</td>\n",
       "      <td>/m/03gtkbc</td>\n",
       "      <td>Niagara Motel</td>\n",
       "    </tr>\n",
       "    <tr>\n",
       "      <th>3</th>\n",
       "      <td>tt0071565</td>\n",
       "      <td>/m/02r3qq</td>\n",
       "      <td>ゴジラ対メカゴジラ</td>\n",
       "    </tr>\n",
       "    <tr>\n",
       "      <th>4</th>\n",
       "      <td>tt1675434</td>\n",
       "      <td>/m/0hgqwpj</td>\n",
       "      <td>Intouchables</td>\n",
       "    </tr>\n",
       "    <tr>\n",
       "      <th>...</th>\n",
       "      <td>...</td>\n",
       "      <td>...</td>\n",
       "      <td>...</td>\n",
       "    </tr>\n",
       "    <tr>\n",
       "      <th>85206</th>\n",
       "      <td>tt0497621</td>\n",
       "      <td>/m/025vhyb</td>\n",
       "      <td>Garbage Video</td>\n",
       "    </tr>\n",
       "    <tr>\n",
       "      <th>85207</th>\n",
       "      <td>tt2233624</td>\n",
       "      <td>/m/0jvdn_c</td>\n",
       "      <td>kin</td>\n",
       "    </tr>\n",
       "    <tr>\n",
       "      <th>85208</th>\n",
       "      <td>tt0347499</td>\n",
       "      <td>/m/063_zr0</td>\n",
       "      <td>Recital of the Sript</td>\n",
       "    </tr>\n",
       "    <tr>\n",
       "      <th>85209</th>\n",
       "      <td>tt8239786</td>\n",
       "      <td>/m/05dff5</td>\n",
       "      <td>Images and Words: Live in Tokyo</td>\n",
       "    </tr>\n",
       "    <tr>\n",
       "      <th>85210</th>\n",
       "      <td>tt0255918</td>\n",
       "      <td>/m/027hm_l</td>\n",
       "      <td>Rises Over Japan</td>\n",
       "    </tr>\n",
       "  </tbody>\n",
       "</table>\n",
       "<p>85211 rows × 3 columns</p>\n",
       "</div>"
      ],
      "text/plain": [
       "         IMDb ID Freebase movie ID                   Wikidata title\n",
       "0      tt0071866         /m/048hrf                     Mr. Majestyk\n",
       "1      tt1119191        /m/04ybhxs                 The Killing Room\n",
       "2      tt0425295        /m/03gtkbc                    Niagara Motel\n",
       "3      tt0071565         /m/02r3qq                        ゴジラ対メカゴジラ\n",
       "4      tt1675434        /m/0hgqwpj                     Intouchables\n",
       "...          ...               ...                              ...\n",
       "85206  tt0497621        /m/025vhyb                    Garbage Video\n",
       "85207  tt2233624        /m/0jvdn_c                              kin\n",
       "85208  tt0347499        /m/063_zr0             Recital of the Sript\n",
       "85209  tt8239786         /m/05dff5  Images and Words: Live in Tokyo\n",
       "85210  tt0255918        /m/027hm_l                 Rises Over Japan\n",
       "\n",
       "[85211 rows x 3 columns]"
      ]
     },
     "metadata": {},
     "output_type": "display_data"
    }
   ],
   "source": [
    "f = open('./Data/Ratings/wikidata.json')\n",
    "jdata = json.load(f)\n",
    "f.close()\n",
    "\n",
    "values = {\n",
    "    'IMDb ID': [entry['IMDb_ID']['value'] for entry in jdata['results']['bindings']],\n",
    "    'Freebase movie ID': [entry['freebase_id']['value'] for entry in jdata['results']['bindings']],\n",
    "    'Wikidata title': [entry['title']['value'] for entry in jdata['results']['bindings']],\n",
    "}\n",
    "\n",
    "freebase_imdb_ids = pd.DataFrame(values)\n",
    "display(freebase_imdb_ids)"
   ]
  },
  {
   "cell_type": "markdown",
   "id": "72268183",
   "metadata": {},
   "source": [
    "We merge the dataframes into one dataframe that contains both the freebase and imdb ids."
   ]
  },
  {
   "cell_type": "code",
   "execution_count": 72,
   "id": "7d3ce0c3",
   "metadata": {},
   "outputs": [
    {
     "data": {
      "text/html": [
       "<div>\n",
       "<style scoped>\n",
       "    .dataframe tbody tr th:only-of-type {\n",
       "        vertical-align: middle;\n",
       "    }\n",
       "\n",
       "    .dataframe tbody tr th {\n",
       "        vertical-align: top;\n",
       "    }\n",
       "\n",
       "    .dataframe thead th {\n",
       "        text-align: right;\n",
       "    }\n",
       "</style>\n",
       "<table border=\"1\" class=\"dataframe\">\n",
       "  <thead>\n",
       "    <tr style=\"text-align: right;\">\n",
       "      <th></th>\n",
       "      <th>Wikipedia movie ID</th>\n",
       "      <th>Freebase movie ID</th>\n",
       "      <th>Movie name</th>\n",
       "      <th>Movie release date</th>\n",
       "      <th>Movie box office revenue</th>\n",
       "      <th>Movie runtime</th>\n",
       "      <th>Movie languages</th>\n",
       "      <th>Movie countries</th>\n",
       "      <th>Movie genres</th>\n",
       "      <th>Movie year</th>\n",
       "      <th>Genres</th>\n",
       "      <th>IMDb ID</th>\n",
       "      <th>Wikidata title</th>\n",
       "    </tr>\n",
       "  </thead>\n",
       "  <tbody>\n",
       "    <tr>\n",
       "      <th>0</th>\n",
       "      <td>975900</td>\n",
       "      <td>/m/03vyhn</td>\n",
       "      <td>Ghosts of Mars</td>\n",
       "      <td>2001-08-24</td>\n",
       "      <td>14010832.0</td>\n",
       "      <td>98.0</td>\n",
       "      <td>{'/m/02h40lc': 'English Language'}</td>\n",
       "      <td>{'/m/09c7w0': 'United States of America'}</td>\n",
       "      <td>{'/m/01jfsb': 'Thriller', '/m/06n90': 'Science...</td>\n",
       "      <td>2001.0</td>\n",
       "      <td>[Science Fiction, Thriller, Western, Horror, A...</td>\n",
       "      <td>tt0228333</td>\n",
       "      <td>Ghosts of Mars</td>\n",
       "    </tr>\n",
       "  </tbody>\n",
       "</table>\n",
       "</div>"
      ],
      "text/plain": [
       "   Wikipedia movie ID Freebase movie ID      Movie name Movie release date  \\\n",
       "0              975900         /m/03vyhn  Ghosts of Mars         2001-08-24   \n",
       "\n",
       "   Movie box office revenue  Movie runtime  \\\n",
       "0                14010832.0           98.0   \n",
       "\n",
       "                      Movie languages  \\\n",
       "0  {'/m/02h40lc': 'English Language'}   \n",
       "\n",
       "                             Movie countries  \\\n",
       "0  {'/m/09c7w0': 'United States of America'}   \n",
       "\n",
       "                                        Movie genres  Movie year  \\\n",
       "0  {'/m/01jfsb': 'Thriller', '/m/06n90': 'Science...      2001.0   \n",
       "\n",
       "                                              Genres    IMDb ID  \\\n",
       "0  [Science Fiction, Thriller, Western, Horror, A...  tt0228333   \n",
       "\n",
       "   Wikidata title  \n",
       "0  Ghosts of Mars  "
      ]
     },
     "execution_count": 72,
     "metadata": {},
     "output_type": "execute_result"
    }
   ],
   "source": [
    "movies_imdbID = movies.merge(freebase_imdb_ids, on=['Freebase movie ID'], how = 'left')\n",
    "movies_imdbID.head(1)"
   ]
  },
  {
   "cell_type": "markdown",
   "id": "d5c0d75a",
   "metadata": {},
   "source": [
    "Now, we can use the imdb ID to obtain the imdb rating of the movies."
   ]
  },
  {
   "cell_type": "code",
   "execution_count": 73,
   "id": "26a9fe6e",
   "metadata": {},
   "outputs": [
    {
     "name": "stdout",
     "output_type": "stream",
     "text": [
      "54712 of 82150 movies (66.60%) have an average rating in IMDB\n",
      "There is 33.40% of average ratings in IMDB missing in total.\n"
     ]
    },
    {
     "data": {
      "text/html": [
       "<div>\n",
       "<style scoped>\n",
       "    .dataframe tbody tr th:only-of-type {\n",
       "        vertical-align: middle;\n",
       "    }\n",
       "\n",
       "    .dataframe tbody tr th {\n",
       "        vertical-align: top;\n",
       "    }\n",
       "\n",
       "    .dataframe thead th {\n",
       "        text-align: right;\n",
       "    }\n",
       "</style>\n",
       "<table border=\"1\" class=\"dataframe\">\n",
       "  <thead>\n",
       "    <tr style=\"text-align: right;\">\n",
       "      <th></th>\n",
       "      <th>Wikipedia movie ID</th>\n",
       "      <th>Freebase movie ID</th>\n",
       "      <th>Movie name</th>\n",
       "      <th>Movie release date</th>\n",
       "      <th>Movie box office revenue</th>\n",
       "      <th>Movie runtime</th>\n",
       "      <th>Movie languages</th>\n",
       "      <th>Movie countries</th>\n",
       "      <th>Movie genres</th>\n",
       "      <th>Movie year</th>\n",
       "      <th>Genres</th>\n",
       "      <th>IMDb ID</th>\n",
       "      <th>Wikidata title</th>\n",
       "      <th>Average rating</th>\n",
       "      <th>Number of votes</th>\n",
       "    </tr>\n",
       "  </thead>\n",
       "  <tbody>\n",
       "    <tr>\n",
       "      <th>0</th>\n",
       "      <td>975900</td>\n",
       "      <td>/m/03vyhn</td>\n",
       "      <td>Ghosts of Mars</td>\n",
       "      <td>2001-08-24</td>\n",
       "      <td>14010832.0</td>\n",
       "      <td>98.0</td>\n",
       "      <td>{'/m/02h40lc': 'English Language'}</td>\n",
       "      <td>{'/m/09c7w0': 'United States of America'}</td>\n",
       "      <td>{'/m/01jfsb': 'Thriller', '/m/06n90': 'Science...</td>\n",
       "      <td>2001.0</td>\n",
       "      <td>[Science Fiction, Thriller, Western, Horror, A...</td>\n",
       "      <td>tt0228333</td>\n",
       "      <td>Ghosts of Mars</td>\n",
       "      <td>4.9</td>\n",
       "      <td>56887.0</td>\n",
       "    </tr>\n",
       "    <tr>\n",
       "      <th>1</th>\n",
       "      <td>3196793</td>\n",
       "      <td>/m/08yl5d</td>\n",
       "      <td>Getting Away with Murder: The JonBenét Ramsey ...</td>\n",
       "      <td>2000-02-16</td>\n",
       "      <td>NaN</td>\n",
       "      <td>95.0</td>\n",
       "      <td>{'/m/02h40lc': 'English Language'}</td>\n",
       "      <td>{'/m/09c7w0': 'United States of America'}</td>\n",
       "      <td>{'/m/02n4kr': 'Mystery', '/m/03bxz7': 'Biograp...</td>\n",
       "      <td>2000.0</td>\n",
       "      <td>[Crime, Mystery, Drama, Biopic]</td>\n",
       "      <td>NaN</td>\n",
       "      <td>NaN</td>\n",
       "      <td>NaN</td>\n",
       "      <td>NaN</td>\n",
       "    </tr>\n",
       "    <tr>\n",
       "      <th>2</th>\n",
       "      <td>28463795</td>\n",
       "      <td>/m/0crgdbh</td>\n",
       "      <td>Brun bitter</td>\n",
       "      <td>1988</td>\n",
       "      <td>NaN</td>\n",
       "      <td>83.0</td>\n",
       "      <td>{'/m/05f_3': 'Norwegian Language'}</td>\n",
       "      <td>{'/m/05b4w': 'Norway'}</td>\n",
       "      <td>{'/m/0lsxr': 'Crime Fiction', '/m/07s9rl0': 'D...</td>\n",
       "      <td>1988.0</td>\n",
       "      <td>[Crime, Drama]</td>\n",
       "      <td>tt0094806</td>\n",
       "      <td>Brun bitter</td>\n",
       "      <td>5.6</td>\n",
       "      <td>40.0</td>\n",
       "    </tr>\n",
       "  </tbody>\n",
       "</table>\n",
       "</div>"
      ],
      "text/plain": [
       "   Wikipedia movie ID Freebase movie ID  \\\n",
       "0              975900         /m/03vyhn   \n",
       "1             3196793         /m/08yl5d   \n",
       "2            28463795        /m/0crgdbh   \n",
       "\n",
       "                                          Movie name Movie release date  \\\n",
       "0                                     Ghosts of Mars         2001-08-24   \n",
       "1  Getting Away with Murder: The JonBenét Ramsey ...         2000-02-16   \n",
       "2                                        Brun bitter               1988   \n",
       "\n",
       "   Movie box office revenue  Movie runtime  \\\n",
       "0                14010832.0           98.0   \n",
       "1                       NaN           95.0   \n",
       "2                       NaN           83.0   \n",
       "\n",
       "                      Movie languages  \\\n",
       "0  {'/m/02h40lc': 'English Language'}   \n",
       "1  {'/m/02h40lc': 'English Language'}   \n",
       "2  {'/m/05f_3': 'Norwegian Language'}   \n",
       "\n",
       "                             Movie countries  \\\n",
       "0  {'/m/09c7w0': 'United States of America'}   \n",
       "1  {'/m/09c7w0': 'United States of America'}   \n",
       "2                     {'/m/05b4w': 'Norway'}   \n",
       "\n",
       "                                        Movie genres  Movie year  \\\n",
       "0  {'/m/01jfsb': 'Thriller', '/m/06n90': 'Science...      2001.0   \n",
       "1  {'/m/02n4kr': 'Mystery', '/m/03bxz7': 'Biograp...      2000.0   \n",
       "2  {'/m/0lsxr': 'Crime Fiction', '/m/07s9rl0': 'D...      1988.0   \n",
       "\n",
       "                                              Genres    IMDb ID  \\\n",
       "0  [Science Fiction, Thriller, Western, Horror, A...  tt0228333   \n",
       "1                    [Crime, Mystery, Drama, Biopic]        NaN   \n",
       "2                                     [Crime, Drama]  tt0094806   \n",
       "\n",
       "   Wikidata title  Average rating  Number of votes  \n",
       "0  Ghosts of Mars             4.9          56887.0  \n",
       "1             NaN             NaN              NaN  \n",
       "2     Brun bitter             5.6             40.0  "
      ]
     },
     "execution_count": 73,
     "metadata": {},
     "output_type": "execute_result"
    }
   ],
   "source": [
    "ratings = pd.read_csv('./Data/Ratings/imdb_ratings.tsv', sep='\\t', header = 0)\n",
    "ratings.rename(columns = {'tconst': 'IMDb ID', 'averageRating': 'Average rating',\n",
    "                          'numVotes' : 'Number of votes'}, inplace = True)\n",
    "\n",
    "movies_augmented = movies_imdbID.merge(ratings, on=['IMDb ID'], how = 'left')\n",
    "\n",
    "nb_movies = movies_augmented['Average rating'].size\n",
    "nb_missing = movies_augmented['Average rating'].isna().sum()\n",
    "ratio = nb_missing/nb_movies \n",
    "\n",
    "print(f\"{nb_movies-nb_missing} of {nb_movies} movies ({(1-ratio)*100:.2f}%) have an average rating in IMDB\")\n",
    "print(f\"There is {ratio*100:.2f}% of average ratings in IMDB missing in total.\")\n",
    "movies_augmented.head(3)"
   ]
  },
  {
   "cell_type": "markdown",
   "id": "64eddc9f",
   "metadata": {},
   "source": [
    "#### Preprocessing the ratings <a class=\"anchor\" id=\"Preprocessing_rate\"></a>\n"
   ]
  },
  {
   "cell_type": "markdown",
   "id": "35260762",
   "metadata": {},
   "source": [
    "What we have now is a dataframe with movies and ratings, joined. Since we used the already preprocessed movies dataframe, all we need to do is check the values we added, so the only new columns are \"IMDb ID\", \"Wikidata title\", \"Average rating\" and \"Number of votes\".\n",
    "\n",
    "First, we can't do anything on \"IMDb ID\": there is no preprocessing to do, outliers to find, etc.\n",
    "\n",
    "We choose to ignore the \"Wikidata title\" because we already have and will rely on \"Movie name\" from the movies dataframe if necessary. This is because it is more compatible with the characters dataframe (the format is exactly the same).\n",
    "\n",
    "We still have \"Average rating\" and \"Number of votes\".\n",
    "\n",
    "We can't just remove outliers because no matter how different from the others a value is, it could be correct (unlike movie dates from the 11th century, like we filtered out above). However, we know the ratings are supposed to be between 1 and 10, so first, let's make sure that they are. The second thing we do is see how many missing values there are for \"Average rating\" and \"Number of votes\". "
   ]
  },
  {
   "cell_type": "markdown",
   "id": "7a563bb4",
   "metadata": {},
   "source": [
    "#### Average rating <a class=\"anchor\" id=\"average_rate\"></a>\n"
   ]
  },
  {
   "cell_type": "code",
   "execution_count": 74,
   "id": "3a5d2c36",
   "metadata": {},
   "outputs": [
    {
     "data": {
      "text/plain": [
       "count    54712.000000\n",
       "mean         6.215865\n",
       "std          1.127242\n",
       "min          1.000000\n",
       "25%          5.600000\n",
       "50%          6.300000\n",
       "75%          7.000000\n",
       "max         10.000000\n",
       "Name: Average rating, dtype: float64"
      ]
     },
     "execution_count": 74,
     "metadata": {},
     "output_type": "execute_result"
    }
   ],
   "source": [
    "movies_augmented['Average rating'].describe()"
   ]
  },
  {
   "cell_type": "markdown",
   "id": "ea1464b8",
   "metadata": {},
   "source": [
    "Indeed, the values are between 1 and 10, so there are no mistakes (that we know of). The mean is aroung 6.2, which seems plausible for imdb ratings."
   ]
  },
  {
   "cell_type": "code",
   "execution_count": 75,
   "id": "68fab8e9",
   "metadata": {},
   "outputs": [
    {
     "name": "stdout",
     "output_type": "stream",
     "text": [
      "There is 33.40% of data missing.\n"
     ]
    },
    {
     "data": {
      "image/png": "[encoded data removed]",
      "text/plain": [
       "<Figure size 640x480 with 1 Axes>"
      ]
     },
     "metadata": {},
     "output_type": "display_data"
    }
   ],
   "source": [
    "print(f\"There is {get_missing_values_percentage(movies_augmented, 'Average rating'):.2f}% of data missing.\")\n",
    "plot_missing_values(movies_augmented, 'Average rating')"
   ]
  },
  {
   "cell_type": "markdown",
   "id": "0437ef35",
   "metadata": {},
   "source": [
    "#### Number of votes <a class=\"anchor\" id=\"vote\"></a>\n"
   ]
  },
  {
   "cell_type": "code",
   "execution_count": 76,
   "id": "15238f6c",
   "metadata": {},
   "outputs": [
    {
     "data": {
      "text/plain": [
       "count    5.471200e+04\n",
       "mean     1.349677e+04\n",
       "std      7.218879e+04\n",
       "min      5.000000e+00\n",
       "25%      1.710000e+02\n",
       "50%      7.345000e+02\n",
       "75%      3.307000e+03\n",
       "max      2.815662e+06\n",
       "Name: Number of votes, dtype: float64"
      ]
     },
     "execution_count": 76,
     "metadata": {},
     "output_type": "execute_result"
    }
   ],
   "source": [
    "movies_augmented['Number of votes'].describe()"
   ]
  },
  {
   "cell_type": "code",
   "execution_count": 77,
   "id": "f92ce523",
   "metadata": {},
   "outputs": [
    {
     "name": "stdout",
     "output_type": "stream",
     "text": [
      "There is 33.40% of data missing.\n"
     ]
    },
    {
     "data": {
      "image/png": "[encoded data removed]",
      "text/plain": [
       "<Figure size 640x480 with 1 Axes>"
      ]
     },
     "metadata": {},
     "output_type": "display_data"
    }
   ],
   "source": [
    "print(f\"There is {get_missing_values_percentage(movies_augmented, 'Number of votes'):.2f}% of data missing.\")\n",
    "plot_missing_values(movies_augmented, 'Number of votes')"
   ]
  },
  {
   "cell_type": "markdown",
   "id": "9c3a588b",
   "metadata": {},
   "source": [
    "Logically, sinse they come from the same dataset and if one is NaN, the other is NaN as well, the percentage of missing data and distribution over the years is exactly the same for both number of votes and average rating."
   ]
  },
  {
   "cell_type": "markdown",
   "id": "c006aa4f",
   "metadata": {},
   "source": [
    "### Removing unnecessary columns <a class=\"anchor\" id=\"remove_col\"></a>\n"
   ]
  },
  {
   "cell_type": "markdown",
   "id": "f96339a6",
   "metadata": {},
   "source": [
    "Given the project we chose, there are a lot of columns in the dataframe that we don't need, and thus don't need to keep uselessly. Therefore, we remove the columns we won't need as follows. For the characters dataframe, we remove \n",
    "\n",
    "- Freebase movie ID\n",
    "- Movie release date (was preprocessed so the data is consistent)\n",
    "- Actor date of birth (was preprocessed so the data is consistent)\n",
    "- Actor height (in meters)\n",
    "- Actor ethnicity (Freebase ID)\n",
    "- Freebase character/actor map ID (redundent information with \"Freebase character ID\" and \"Freebase actor ID\"\n",
    "\n",
    "We also rename the remaining columns to make them more legible."
   ]
  },
  {
   "cell_type": "code",
   "execution_count": 78,
   "id": "e6253d17",
   "metadata": {},
   "outputs": [],
   "source": [
    "characters_persona.drop(columns=['Freebase movie ID', 'Movie release date', 'Actor date of birth', \n",
    "                         'Actor height (in meters)', 'Actor ethnicity (Freebase ID)', \n",
    "                         'Freebase character/actor map ID'], inplace=True)\n",
    "\n",
    "characters_persona.rename(columns={'Wikipedia movie ID': 'movie_id', 'Character name': 'c_name',\n",
    "                           'Actor gender': 'a_gender', 'Actor name': 'a_name',\n",
    "                           'Actor age at movie release': 'a_age', 'Freebase character ID': 'c_id',\n",
    "                           'Freebase actor ID': 'a_id', 'Movie year': 'movie_release',\n",
    "                           'Date of birth': 'a_birth_year', 'Persona Type': 'persona'}, inplace=True)"
   ]
  },
  {
   "cell_type": "markdown",
   "id": "f79ac230",
   "metadata": {},
   "source": [
    "> SOPHIEEEE "
   ]
  },
  {
   "cell_type": "code",
   "execution_count": 79,
   "id": "0f474f2a",
   "metadata": {},
   "outputs": [],
   "source": [
    "characters_persona_romance.drop(columns=['Freebase movie ID', 'Movie release date', 'Actor date of birth', \n",
    "                         'Actor height (in meters)', 'Actor ethnicity (Freebase ID)', \n",
    "                         'Freebase character/actor map ID'], inplace=True)\n",
    "\n",
    "characters_persona_romance.rename(columns={'Wikipedia movie ID': 'movie_id', 'Character name': 'c_name',\n",
    "                           'Actor gender': 'a_gender', 'Actor name': 'a_name',\n",
    "                           'Actor age at movie release': 'a_age', 'Freebase character ID': 'c_id',\n",
    "                           'Freebase actor ID': 'a_id', 'Movie year': 'movie_release',\n",
    "                           'Date of birth': 'a_birth_year', 'Persona Type': 'persona'}, inplace=True)"
   ]
  },
  {
   "cell_type": "markdown",
   "id": "083b61e4",
   "metadata": {},
   "source": [
    "The result is much more comfortable to read:"
   ]
  },
  {
   "cell_type": "code",
   "execution_count": 80,
   "id": "3f9fef59",
   "metadata": {},
   "outputs": [
    {
     "data": {
      "text/html": [
       "<div>\n",
       "<style scoped>\n",
       "    .dataframe tbody tr th:only-of-type {\n",
       "        vertical-align: middle;\n",
       "    }\n",
       "\n",
       "    .dataframe tbody tr th {\n",
       "        vertical-align: top;\n",
       "    }\n",
       "\n",
       "    .dataframe thead th {\n",
       "        text-align: right;\n",
       "    }\n",
       "</style>\n",
       "<table border=\"1\" class=\"dataframe\">\n",
       "  <thead>\n",
       "    <tr style=\"text-align: right;\">\n",
       "      <th></th>\n",
       "      <th>movie_id</th>\n",
       "      <th>c_name</th>\n",
       "      <th>a_gender</th>\n",
       "      <th>a_name</th>\n",
       "      <th>a_age</th>\n",
       "      <th>c_id</th>\n",
       "      <th>a_id</th>\n",
       "      <th>movie_release</th>\n",
       "      <th>a_birth_year</th>\n",
       "      <th>persona</th>\n",
       "    </tr>\n",
       "  </thead>\n",
       "  <tbody>\n",
       "    <tr>\n",
       "      <th>0</th>\n",
       "      <td>975900</td>\n",
       "      <td>Akooshay</td>\n",
       "      <td>F</td>\n",
       "      <td>Wanda De Jesus</td>\n",
       "      <td>42.0</td>\n",
       "      <td>/m/0bgcj3x</td>\n",
       "      <td>/m/03wcfv7</td>\n",
       "      <td>2001.0</td>\n",
       "      <td>1958.0</td>\n",
       "      <td>NaN</td>\n",
       "    </tr>\n",
       "    <tr>\n",
       "      <th>1</th>\n",
       "      <td>975900</td>\n",
       "      <td>Lieutenant Melanie Ballard</td>\n",
       "      <td>F</td>\n",
       "      <td>Natasha Henstridge</td>\n",
       "      <td>27.0</td>\n",
       "      <td>/m/0bgchn4</td>\n",
       "      <td>/m/0346l4</td>\n",
       "      <td>2001.0</td>\n",
       "      <td>1974.0</td>\n",
       "      <td>35.0</td>\n",
       "    </tr>\n",
       "    <tr>\n",
       "      <th>2</th>\n",
       "      <td>975900</td>\n",
       "      <td>Desolation Williams</td>\n",
       "      <td>M</td>\n",
       "      <td>Ice Cube</td>\n",
       "      <td>32.0</td>\n",
       "      <td>/m/0bgchn_</td>\n",
       "      <td>/m/01vw26l</td>\n",
       "      <td>2001.0</td>\n",
       "      <td>1969.0</td>\n",
       "      <td>NaN</td>\n",
       "    </tr>\n",
       "  </tbody>\n",
       "</table>\n",
       "</div>"
      ],
      "text/plain": [
       "   movie_id                      c_name a_gender              a_name  a_age  \\\n",
       "0    975900                    Akooshay        F      Wanda De Jesus   42.0   \n",
       "1    975900  Lieutenant Melanie Ballard        F  Natasha Henstridge   27.0   \n",
       "2    975900         Desolation Williams        M            Ice Cube   32.0   \n",
       "\n",
       "         c_id        a_id  movie_release  a_birth_year  persona  \n",
       "0  /m/0bgcj3x  /m/03wcfv7         2001.0        1958.0      NaN  \n",
       "1  /m/0bgchn4   /m/0346l4         2001.0        1974.0     35.0  \n",
       "2  /m/0bgchn_  /m/01vw26l         2001.0        1969.0      NaN  "
      ]
     },
     "execution_count": 80,
     "metadata": {},
     "output_type": "execute_result"
    }
   ],
   "source": [
    "characters_persona.head(3)"
   ]
  },
  {
   "cell_type": "markdown",
   "id": "af3a330a",
   "metadata": {},
   "source": [
    "We now do the same for `movies_augmented`. Our project is based on movies more than characters, so we keep most columns but rename them to have names that are easier to handle. The only columns we remove are:\n",
    "\n",
    "- Freebase movie ID (we rely on the wikipedia movie id only)\n",
    "- Movie release date (was preprocessed so the data is consistent)\n",
    "- Movie genres (was preprocessed for easier data handling in the project)\n",
    "- Wikidata title (we already have the movie name)"
   ]
  },
  {
   "cell_type": "code",
   "execution_count": 81,
   "id": "37713238",
   "metadata": {},
   "outputs": [
    {
     "data": {
      "text/html": [
       "<div>\n",
       "<style scoped>\n",
       "    .dataframe tbody tr th:only-of-type {\n",
       "        vertical-align: middle;\n",
       "    }\n",
       "\n",
       "    .dataframe tbody tr th {\n",
       "        vertical-align: top;\n",
       "    }\n",
       "\n",
       "    .dataframe thead th {\n",
       "        text-align: right;\n",
       "    }\n",
       "</style>\n",
       "<table border=\"1\" class=\"dataframe\">\n",
       "  <thead>\n",
       "    <tr style=\"text-align: right;\">\n",
       "      <th></th>\n",
       "      <th>movie_id</th>\n",
       "      <th>movie_name</th>\n",
       "      <th>revenue</th>\n",
       "      <th>runtime</th>\n",
       "      <th>languages</th>\n",
       "      <th>countries</th>\n",
       "      <th>movie_release</th>\n",
       "      <th>genres</th>\n",
       "      <th>imdb_id</th>\n",
       "      <th>rating</th>\n",
       "      <th>nb_votes</th>\n",
       "    </tr>\n",
       "  </thead>\n",
       "  <tbody>\n",
       "    <tr>\n",
       "      <th>0</th>\n",
       "      <td>975900</td>\n",
       "      <td>Ghosts of Mars</td>\n",
       "      <td>14010832.0</td>\n",
       "      <td>98.0</td>\n",
       "      <td>{'/m/02h40lc': 'English Language'}</td>\n",
       "      <td>{'/m/09c7w0': 'United States of America'}</td>\n",
       "      <td>2001.0</td>\n",
       "      <td>[Science Fiction, Thriller, Western, Horror, A...</td>\n",
       "      <td>tt0228333</td>\n",
       "      <td>4.9</td>\n",
       "      <td>56887.0</td>\n",
       "    </tr>\n",
       "    <tr>\n",
       "      <th>1</th>\n",
       "      <td>3196793</td>\n",
       "      <td>Getting Away with Murder: The JonBenét Ramsey ...</td>\n",
       "      <td>NaN</td>\n",
       "      <td>95.0</td>\n",
       "      <td>{'/m/02h40lc': 'English Language'}</td>\n",
       "      <td>{'/m/09c7w0': 'United States of America'}</td>\n",
       "      <td>2000.0</td>\n",
       "      <td>[Crime, Mystery, Drama, Biopic]</td>\n",
       "      <td>NaN</td>\n",
       "      <td>NaN</td>\n",
       "      <td>NaN</td>\n",
       "    </tr>\n",
       "    <tr>\n",
       "      <th>2</th>\n",
       "      <td>28463795</td>\n",
       "      <td>Brun bitter</td>\n",
       "      <td>NaN</td>\n",
       "      <td>83.0</td>\n",
       "      <td>{'/m/05f_3': 'Norwegian Language'}</td>\n",
       "      <td>{'/m/05b4w': 'Norway'}</td>\n",
       "      <td>1988.0</td>\n",
       "      <td>[Crime, Drama]</td>\n",
       "      <td>tt0094806</td>\n",
       "      <td>5.6</td>\n",
       "      <td>40.0</td>\n",
       "    </tr>\n",
       "  </tbody>\n",
       "</table>\n",
       "</div>"
      ],
      "text/plain": [
       "   movie_id                                         movie_name     revenue  \\\n",
       "0    975900                                     Ghosts of Mars  14010832.0   \n",
       "1   3196793  Getting Away with Murder: The JonBenét Ramsey ...         NaN   \n",
       "2  28463795                                        Brun bitter         NaN   \n",
       "\n",
       "   runtime                           languages  \\\n",
       "0     98.0  {'/m/02h40lc': 'English Language'}   \n",
       "1     95.0  {'/m/02h40lc': 'English Language'}   \n",
       "2     83.0  {'/m/05f_3': 'Norwegian Language'}   \n",
       "\n",
       "                                   countries  movie_release  \\\n",
       "0  {'/m/09c7w0': 'United States of America'}         2001.0   \n",
       "1  {'/m/09c7w0': 'United States of America'}         2000.0   \n",
       "2                     {'/m/05b4w': 'Norway'}         1988.0   \n",
       "\n",
       "                                              genres    imdb_id  rating  \\\n",
       "0  [Science Fiction, Thriller, Western, Horror, A...  tt0228333     4.9   \n",
       "1                    [Crime, Mystery, Drama, Biopic]        NaN     NaN   \n",
       "2                                     [Crime, Drama]  tt0094806     5.6   \n",
       "\n",
       "   nb_votes  \n",
       "0   56887.0  \n",
       "1       NaN  \n",
       "2      40.0  "
      ]
     },
     "execution_count": 81,
     "metadata": {},
     "output_type": "execute_result"
    }
   ],
   "source": [
    "movies_augmented.drop(columns=['Freebase movie ID', 'Movie release date', 'Movie genres',\n",
    "                               'Wikidata title'], inplace=True)\n",
    "\n",
    "movies_augmented.rename(columns={'Wikipedia movie ID': 'movie_id', 'Movie name': 'movie_name',\n",
    "                           'Movie box office revenue': 'revenue', 'Movie runtime': 'runtime',\n",
    "                           'Movie languages': 'languages', 'Movie countries': 'countries',\n",
    "                           'Movie year': 'movie_release', 'Genres': 'genres', 'IMDb ID': 'imdb_id',\n",
    "                           'Average rating': 'rating', 'Number of votes': 'nb_votes'}, inplace=True)\n",
    "\n",
    "movies_augmented.head(3)"
   ]
  },
  {
   "cell_type": "markdown",
   "id": "c59fe173",
   "metadata": {},
   "source": [
    "### Dropping Duplicates <a class=\"anchor\" id=\"drop_dup\"></a>\n"
   ]
  },
  {
   "cell_type": "markdown",
   "id": "68bd6ca1",
   "metadata": {},
   "source": [
    "We still may have some duplicates in the dataframe, so now that we removed all useless columns, we make sure to re,ove all duplicates before saving the preprocessed dataframes."
   ]
  },
  {
   "cell_type": "markdown",
   "id": "54766912",
   "metadata": {},
   "source": [
    "> CHANGED HERE TOO"
   ]
  },
  {
   "cell_type": "code",
   "execution_count": 82,
   "id": "1007f77c",
   "metadata": {},
   "outputs": [],
   "source": [
    "characters_persona.drop_duplicates(subset=['movie_id', 'c_id', 'a_id'], inplace=True)\n",
    "characters_persona_romance.drop_duplicates(subset=['movie_id', 'c_id', 'a_id'], inplace=True)\n",
    "movies_augmented.drop_duplicates(subset=['movie_id', 'imdb_id'], inplace=True)"
   ]
  },
  {
   "cell_type": "markdown",
   "id": "3a359dc1",
   "metadata": {},
   "source": [
    "### Saving <a class=\"anchor\" id=\"Saving\"></a>\n"
   ]
  },
  {
   "cell_type": "markdown",
   "id": "bdfef591",
   "metadata": {},
   "source": [
    "Now that all this preprocessing has been done, let's save the dataframes to tsv files so that our other notebooks can load them without having to rerun all of this! Note that we don't save the summaries dataframe because nothing was done on it and the merging with movies was a simple left join. Note also that we don't save the `movies` dataframe because we want to have the ratings, so having `movies_augmented` is enough (since it is the movies joined with their ratings)."
   ]
  },
  {
   "cell_type": "markdown",
   "id": "455d079c",
   "metadata": {},
   "source": [
    "> ET ICI AUSSI :))"
   ]
  },
  {
   "cell_type": "code",
   "execution_count": 83,
   "id": "ddfdfbc9",
   "metadata": {},
   "outputs": [],
   "source": [
    "characters_persona.to_csv('./Data/Preprocessed/preprocessed_characters.tsv', sep=\"\\t\", index=False) \n",
    "characters_persona_romance.to_csv('./Data/Preprocessed/preprocessed_characters_romance.tsv', sep=\"\\t\", index=False)\n",
    "movies_augmented.to_csv('./Data/Preprocessed/movie.metadata.augmented.tsv', sep='\\t', index=False)"
   ]
  },
  {
   "cell_type": "markdown",
   "id": "adbb8fb7",
   "metadata": {},
   "source": [
    "The following code can and will be used in other notebooks to recover the final results of the preprocessing of the initial dataframes:"
   ]
  },
  {
   "cell_type": "code",
   "execution_count": 84,
   "id": "a3a9c202",
   "metadata": {},
   "outputs": [],
   "source": [
    "loaded_characters = pd.read_csv('./Data/Preprocessed/preprocessed_characters.tsv', delimiter='\\t')\n",
    "loaded_movies_augmented = pd.read_csv('./Data/Preprocessed/movie.metadata.augmented.tsv', delimiter='\\t')"
   ]
  },
  {
   "cell_type": "markdown",
   "id": "675c9ea8",
   "metadata": {},
   "source": [
    "Note that the loaded dataframe and saved dataframes are not exactly the same because in the loaded dataframes, the indices range from \"0\" to \"number of rows\", whereas in the saved dataframe, the indices range from \"0\" to \"number of rows before preprocessing\", with some missing values in between because the entries we filtered out were not (necessarily) the ones with largest indices. However, this is a small detail that will not affect the analysis or anything else, it's just something to be aware of."
   ]
  },
  {
   "cell_type": "code",
   "execution_count": null,
   "id": "95d8a201",
   "metadata": {},
   "outputs": [],
   "source": []
  }
 ],
 "metadata": {
  "kernelspec": {
   "display_name": "Python 3 (ipykernel)",
   "language": "python",
   "name": "python3"
  },
  "language_info": {
   "codemirror_mode": {
    "name": "ipython",
    "version": 3
   },
   "file_extension": ".py",
   "mimetype": "text/x-python",
   "name": "python",
   "nbconvert_exporter": "python",
   "pygments_lexer": "ipython3",
   "version": "3.9.18"
  }
 },
 "nbformat": 4,
 "nbformat_minor": 5
}
